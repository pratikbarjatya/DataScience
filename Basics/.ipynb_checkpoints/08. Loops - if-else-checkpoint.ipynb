{
 "cells": [
  {
   "cell_type": "code",
   "execution_count": 1,
   "metadata": {},
   "outputs": [],
   "source": [
    "import numpy as np\n",
    "from numpy.random import randn"
   ]
  },
  {
   "cell_type": "code",
   "execution_count": 2,
   "metadata": {},
   "outputs": [
    {
     "data": {
      "text/plain": [
       "-1.2976237932088455"
      ]
     },
     "execution_count": 2,
     "metadata": {},
     "output_type": "execute_result"
    }
   ],
   "source": [
    "randn()"
   ]
  },
  {
   "cell_type": "code",
   "execution_count": 12,
   "metadata": {},
   "outputs": [
    {
     "name": "stdout",
     "output_type": "stream",
     "text": [
      "1.2645009559845861\n",
      "Greater than 1\n"
     ]
    }
   ],
   "source": [
    "x=randn()\n",
    "answer=None\n",
    "if x>1:\n",
    "    answer=\"Greater than 1\"\n",
    "print(x)\n",
    "print(answer)"
   ]
  },
  {
   "cell_type": "code",
   "execution_count": 4,
   "metadata": {},
   "outputs": [
    {
     "data": {
      "text/plain": [
       "-1.8996693245770004"
      ]
     },
     "execution_count": 4,
     "metadata": {},
     "output_type": "execute_result"
    }
   ],
   "source": [
    "x"
   ]
  },
  {
   "cell_type": "code",
   "execution_count": 6,
   "metadata": {},
   "outputs": [
    {
     "data": {
      "text/plain": [
       "NoneType"
      ]
     },
     "execution_count": 6,
     "metadata": {},
     "output_type": "execute_result"
    }
   ],
   "source": [
    "type(answer)"
   ]
  },
  {
   "cell_type": "code",
   "execution_count": 15,
   "metadata": {},
   "outputs": [
    {
     "name": "stdout",
     "output_type": "stream",
     "text": [
      "0.8387602485192394\n",
      "Less than 1\n"
     ]
    }
   ],
   "source": [
    "x=randn()\n",
    "if x>1:\n",
    "    answer=\"Greater than 1\"\n",
    "else:\n",
    "    answer=\"Less than 1\"\n",
    "print(x)\n",
    "print(answer)"
   ]
  },
  {
   "cell_type": "code",
   "execution_count": 19,
   "metadata": {},
   "outputs": [
    {
     "name": "stdout",
     "output_type": "stream",
     "text": [
      "-1.1080138445482426\n",
      "Less than -1\n"
     ]
    }
   ],
   "source": [
    "x=randn()\n",
    "if x>1:\n",
    "    answer=\"Greater than 1\"\n",
    "else:\n",
    "    if x>=-1 and x<1:\n",
    "        answer=\"Between -1 and 1\"\n",
    "    else:\n",
    "        answer=\"Less than -1\"\n",
    "print(x)\n",
    "print(answer)"
   ]
  },
  {
   "cell_type": "code",
   "execution_count": 20,
   "metadata": {},
   "outputs": [
    {
     "name": "stdout",
     "output_type": "stream",
     "text": [
      "1.2324920420242682\n",
      "Greater than 1\n"
     ]
    }
   ],
   "source": [
    "x=randn()\n",
    "if x>1:\n",
    "    answer=\"Greater than 1\"\n",
    "elif x>=-1 and x<1:\n",
    "    answer=\"Between -1 and 1\"\n",
    "else:\n",
    "    answer=\"Less than 1\"\n",
    "print(x)\n",
    "print(answer)"
   ]
  },
  {
   "cell_type": "code",
   "execution_count": 23,
   "metadata": {},
   "outputs": [
    {
     "name": "stdout",
     "output_type": "stream",
     "text": [
      "25\n",
      "Avail a discount of 25%\n"
     ]
    }
   ],
   "source": [
    "Discount = None\n",
    "Quantity=25\n",
    "if Quantity>50:\n",
    "    Discount=\"Avail a discount of 50%\"\n",
    "elif Quantity>20 and Quantity<50:\n",
    "    Discount=\"Avail a discount of 25%\"\n",
    "else:\n",
    "    Discount=\"Avail a discount of 10%\"\n",
    "print(Quantity)\n",
    "print(Discount)"
   ]
  }
 ],
 "metadata": {
  "kernelspec": {
   "display_name": "Python 3",
   "language": "python",
   "name": "python3"
  },
  "language_info": {
   "codemirror_mode": {
    "name": "ipython",
    "version": 3
   },
   "file_extension": ".py",
   "mimetype": "text/x-python",
   "name": "python",
   "nbconvert_exporter": "python",
   "pygments_lexer": "ipython3",
   "version": "3.7.3"
  }
 },
 "nbformat": 4,
 "nbformat_minor": 2
}
