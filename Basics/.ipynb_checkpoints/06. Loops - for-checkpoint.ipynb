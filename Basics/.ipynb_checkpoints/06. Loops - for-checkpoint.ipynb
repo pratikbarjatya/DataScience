{
 "cells": [
  {
   "cell_type": "code",
   "execution_count": 1,
   "metadata": {},
   "outputs": [
    {
     "data": {
      "text/plain": [
       "range(0, 5)"
      ]
     },
     "execution_count": 1,
     "metadata": {},
     "output_type": "execute_result"
    }
   ],
   "source": [
    "range(5)"
   ]
  },
  {
   "cell_type": "code",
   "execution_count": 2,
   "metadata": {},
   "outputs": [
    {
     "data": {
      "text/plain": [
       "[0, 1, 2, 3, 4]"
      ]
     },
     "execution_count": 2,
     "metadata": {},
     "output_type": "execute_result"
    }
   ],
   "source": [
    "list(range(5))"
   ]
  },
  {
   "cell_type": "code",
   "execution_count": 3,
   "metadata": {},
   "outputs": [
    {
     "data": {
      "text/plain": [
       "range(0, 10, 2)"
      ]
     },
     "execution_count": 3,
     "metadata": {},
     "output_type": "execute_result"
    }
   ],
   "source": [
    "range(0,10,2)"
   ]
  },
  {
   "cell_type": "code",
   "execution_count": 4,
   "metadata": {},
   "outputs": [
    {
     "data": {
      "text/plain": [
       "[0, 2, 4, 6, 8]"
      ]
     },
     "execution_count": 4,
     "metadata": {},
     "output_type": "execute_result"
    }
   ],
   "source": [
    "list(range(0,10,2))"
   ]
  },
  {
   "cell_type": "code",
   "execution_count": 5,
   "metadata": {},
   "outputs": [],
   "source": [
    "#for condition {\n",
    "#    statement1\n",
    "#    statement2\n",
    "#}\n",
    "#statement3\n",
    "\n",
    "#for condition:\n",
    "#    statement1\n",
    "#    statement2\n",
    "#statement3   "
   ]
  },
  {
   "cell_type": "code",
   "execution_count": 6,
   "metadata": {},
   "outputs": [
    {
     "name": "stdout",
     "output_type": "stream",
     "text": [
      "Hello Cognitiors 0\n",
      "Hello Cognitiors 1\n",
      "Hello Cognitiors 2\n",
      "Hello Cognitiors 3\n",
      "Hello Cognitiors 4\n",
      "Hope you will have nice learning experience\n"
     ]
    }
   ],
   "source": [
    "for i in range(0,5):\n",
    "    print(\"Hello Cognitiors\",i)\n",
    "print(\"Hope you will have nice learning experience\")"
   ]
  },
  {
   "cell_type": "code",
   "execution_count": 7,
   "metadata": {},
   "outputs": [],
   "source": [
    "list1 = [1,2,3,4,5,6,7]"
   ]
  },
  {
   "cell_type": "code",
   "execution_count": 8,
   "metadata": {},
   "outputs": [
    {
     "name": "stdout",
     "output_type": "stream",
     "text": [
      "Hi, how are you?\n",
      "Hi, how are you?\n",
      "Hi, how are you?\n",
      "Hi, how are you?\n",
      "Hi, how are you?\n",
      "Hi, how are you?\n",
      "Hi, how are you?\n",
      "Hope you will have nice time\n"
     ]
    }
   ],
   "source": [
    "for i in list1:\n",
    "    print(\"Hi, how are you?\")\n",
    "print(\"Hope you will have nice time\")"
   ]
  },
  {
   "cell_type": "code",
   "execution_count": 9,
   "metadata": {},
   "outputs": [],
   "source": [
    "student_name = ['Jack','James','Kate','Ben','Hugo']\n",
    "student_id = ['Mc-2543','MS-1234','BM-2234','AB-3345','LM-3445']"
   ]
  },
  {
   "cell_type": "code",
   "execution_count": 10,
   "metadata": {},
   "outputs": [
    {
     "name": "stdout",
     "output_type": "stream",
     "text": [
      "Hello Jack , your student id is: Mc-2543\n",
      "Hello James , your student id is: MS-1234\n",
      "Hello Kate , your student id is: BM-2234\n",
      "Hello Ben , your student id is: AB-3345\n",
      "Hello Hugo , your student id is: LM-3445\n"
     ]
    }
   ],
   "source": [
    "import itertools\n",
    "for(s1,s2) in zip(student_name, student_id):\n",
    "    print(\"Hello\", s1, \",\", 'your student id is:',s2)"
   ]
  },
  {
   "cell_type": "code",
   "execution_count": null,
   "metadata": {},
   "outputs": [],
   "source": []
  }
 ],
 "metadata": {
  "kernelspec": {
   "display_name": "Python 3",
   "language": "python",
   "name": "python3"
  },
  "language_info": {
   "codemirror_mode": {
    "name": "ipython",
    "version": 3
   },
   "file_extension": ".py",
   "mimetype": "text/x-python",
   "name": "python",
   "nbconvert_exporter": "python",
   "pygments_lexer": "ipython3",
   "version": "3.7.3"
  }
 },
 "nbformat": 4,
 "nbformat_minor": 2
}
