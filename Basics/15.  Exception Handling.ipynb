{
 "cells": [
  {
   "cell_type": "code",
   "execution_count": 1,
   "metadata": {},
   "outputs": [
    {
     "name": "stdout",
     "output_type": "stream",
     "text": [
      "Enter two numbers, separated by a comma: 2,3\n",
      "Result is  0.6666666666666666\n",
      "No exceptions\n",
      "This statement will always run\n"
     ]
    }
   ],
   "source": [
    "try:\n",
    "    num1, num2 = eval(input(\"Enter two numbers, separated by a comma: \"))\n",
    "    result=num1/num2\n",
    "    print(\"Result is \", result)\n",
    "\n",
    "except ZeroDivisionError:\n",
    "    print(\"I cannot divide the number with 0\")\n",
    "except SyntaxError:\n",
    "    print(\"Comman is missing, please pass the numbers as 1,2\")\n",
    "except WrongInputError:\n",
    "    print(\"Please enter numbers and not characters\")\n",
    "else:\n",
    "    print(\"No exceptions\")\n",
    "finally:\n",
    "    print(\"This statement will always run\")"
   ]
  },
  {
   "cell_type": "code",
   "execution_count": null,
   "metadata": {},
   "outputs": [],
   "source": []
  }
 ],
 "metadata": {
  "kernelspec": {
   "display_name": "Python 3",
   "language": "python",
   "name": "python3"
  },
  "language_info": {
   "codemirror_mode": {
    "name": "ipython",
    "version": 3
   },
   "file_extension": ".py",
   "mimetype": "text/x-python",
   "name": "python",
   "nbconvert_exporter": "python",
   "pygments_lexer": "ipython3",
   "version": "3.7.3"
  }
 },
 "nbformat": 4,
 "nbformat_minor": 2
}
