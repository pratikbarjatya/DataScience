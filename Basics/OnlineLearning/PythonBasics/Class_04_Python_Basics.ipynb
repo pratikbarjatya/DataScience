{
 "cells": [
  {
   "cell_type": "code",
   "execution_count": null,
   "metadata": {},
   "outputs": [],
   "source": [
    "#Open Question\n",
    "#How to writeback the data in DB"
   ]
  },
  {
   "cell_type": "code",
   "execution_count": null,
   "metadata": {},
   "outputs": [],
   "source": [
    "#File Handling \n",
    "#Regular Expressions \n",
    "#Error Handling \n",
    "#OOPs concept "
   ]
  },
  {
   "cell_type": "code",
   "execution_count": 1,
   "metadata": {},
   "outputs": [],
   "source": [
    "import os\n",
    "os.chdir(r'C:\\Users\\Admin\\Desktop\\PYTHON MODULES')"
   ]
  },
  {
   "cell_type": "code",
   "execution_count": 2,
   "metadata": {},
   "outputs": [
    {
     "data": {
      "text/plain": [
       "'C:\\\\Users\\\\Admin\\\\Desktop\\\\PYTHON MODULES'"
      ]
     },
     "execution_count": 2,
     "metadata": {},
     "output_type": "execute_result"
    }
   ],
   "source": [
    "os.getcwd()"
   ]
  },
  {
   "cell_type": "code",
   "execution_count": 3,
   "metadata": {},
   "outputs": [
    {
     "name": "stdout",
     "output_type": "stream",
     "text": [
      "Data written successfully\n"
     ]
    }
   ],
   "source": [
    "file = open('Edureka_25Jan.txt', 'w')\n",
    "file.write('Edureka, we help students to learn new technologies')\n",
    "file.write('\\nWe are here to help our students and provide real time knowledge')\n",
    "file.write('\\nOur headquaters is in Bengaluru, India')\n",
    "print('Data written successfully')\n",
    "file.close()"
   ]
  },
  {
   "cell_type": "code",
   "execution_count": 4,
   "metadata": {},
   "outputs": [
    {
     "name": "stdout",
     "output_type": "stream",
     "text": [
      "Data Written Successfully\n"
     ]
    }
   ],
   "source": [
    "file = open('Edureka_25Jan.txt','a')\n",
    "file.write('\\nWe are expanding our education network across the globe')\n",
    "print('Data Written Successfully')\n",
    "file.close()"
   ]
  },
  {
   "cell_type": "code",
   "execution_count": 18,
   "metadata": {},
   "outputs": [],
   "source": [
    "file = open('Edureka_25Jan.txt', 'w')\n",
    "file.write('Hello')\n",
    "file.close()"
   ]
  },
  {
   "cell_type": "code",
   "execution_count": 6,
   "metadata": {},
   "outputs": [],
   "source": [
    "list = ['My name is Rahl Tiwari', '\\n I am helping students to learn latest technologies']\n",
    "file = open('Edureka_25Jan.txt','w')\n",
    "file.writelines(list)\n",
    "file.close()"
   ]
  },
  {
   "cell_type": "code",
   "execution_count": 7,
   "metadata": {},
   "outputs": [],
   "source": [
    "os.rename('Edureka_25Jan.txt', 'Edureka_02Feb.txt')"
   ]
  },
  {
   "cell_type": "code",
   "execution_count": 8,
   "metadata": {},
   "outputs": [],
   "source": [
    "import datetime"
   ]
  },
  {
   "cell_type": "code",
   "execution_count": 9,
   "metadata": {},
   "outputs": [],
   "source": [
    "current_date = datetime.datetime.today().strftime ('%d-%b-%Y')\n",
    "os.rename('Edureka_02Feb.txt','Edureka_'+str(current_date) + '.txt' )"
   ]
  },
  {
   "cell_type": "code",
   "execution_count": 10,
   "metadata": {},
   "outputs": [
    {
     "name": "stdout",
     "output_type": "stream",
     "text": [
      "My name is Rahl Tiwari\n",
      " I am helping students to learn latest technologies\n"
     ]
    },
    {
     "data": {
      "text/plain": [
       "<function TextIOWrapper.close()>"
      ]
     },
     "execution_count": 10,
     "metadata": {},
     "output_type": "execute_result"
    }
   ],
   "source": [
    "file = open('Edureka_02-Feb-2020.txt','r')\n",
    "call = file.read()\n",
    "print(call)\n",
    "file.close"
   ]
  },
  {
   "cell_type": "code",
   "execution_count": 28,
   "metadata": {},
   "outputs": [
    {
     "name": "stdout",
     "output_type": "stream",
     "text": [
      "My name is Rahl\n"
     ]
    },
    {
     "data": {
      "text/plain": [
       "<function TextIOWrapper.close()>"
      ]
     },
     "execution_count": 28,
     "metadata": {},
     "output_type": "execute_result"
    }
   ],
   "source": [
    "file = open('Edureka_02-Feb-2020.txt','r')\n",
    "call = file.read(15)\n",
    "print(call)\n",
    "file.close"
   ]
  },
  {
   "cell_type": "code",
   "execution_count": 19,
   "metadata": {},
   "outputs": [],
   "source": [
    "os.remove('Edureka_25Jan.txt')"
   ]
  },
  {
   "cell_type": "code",
   "execution_count": 23,
   "metadata": {},
   "outputs": [],
   "source": [
    "file = open('Edureka_25Jan.txt', 'w')\n",
    "file.write('Hello')\n",
    "file.close()"
   ]
  },
  {
   "cell_type": "code",
   "execution_count": 25,
   "metadata": {},
   "outputs": [
    {
     "name": "stdout",
     "output_type": "stream",
     "text": [
      "The file does not exists\n"
     ]
    }
   ],
   "source": [
    "if os.path.exists('Edureka_25Jan.txt'):\n",
    "    os.remove('Edureka_25Jan.txt')\n",
    "    print('The file is deleted successfully')\n",
    "else:\n",
    "    print('The file does not exists')"
   ]
  },
  {
   "cell_type": "code",
   "execution_count": 33,
   "metadata": {},
   "outputs": [
    {
     "name": "stdout",
     "output_type": "stream",
     "text": [
      "Enter your name:Rahul\n",
      "Enter your age:34\n",
      "Enter your marks:34\n",
      "Data written successfully\n"
     ]
    }
   ],
   "source": [
    "file = open('Edureka.txt','w')\n",
    "file.write(input('Enter your name:'))\n",
    "file.write(',')\n",
    "file.write(input('Enter your age:'))\n",
    "file.write(',')\n",
    "file.write(input('Enter your marks:'))\n",
    "print('Data written successfully')\n",
    "file.close()"
   ]
  },
  {
   "cell_type": "code",
   "execution_count": null,
   "metadata": {},
   "outputs": [],
   "source": [
    "#Exception Handling"
   ]
  },
  {
   "cell_type": "code",
   "execution_count": 35,
   "metadata": {},
   "outputs": [
    {
     "name": "stdout",
     "output_type": "stream",
     "text": [
      "Number1: 10\n",
      "Number2: 0\n",
      "None\n"
     ]
    },
    {
     "ename": "ZeroDivisionError",
     "evalue": "division by zero",
     "output_type": "error",
     "traceback": [
      "\u001b[1;31m---------------------------------------------------------------------------\u001b[0m",
      "\u001b[1;31mZeroDivisionError\u001b[0m                         Traceback (most recent call last)",
      "\u001b[1;32m<ipython-input-35-43e8876c69b5>\u001b[0m in \u001b[0;36m<module>\u001b[1;34m\u001b[0m\n\u001b[0;32m      3\u001b[0m \u001b[0my\u001b[0m \u001b[1;33m=\u001b[0m \u001b[0mint\u001b[0m\u001b[1;33m(\u001b[0m\u001b[0minput\u001b[0m\u001b[1;33m(\u001b[0m\u001b[1;34m'Number2: '\u001b[0m\u001b[1;33m)\u001b[0m\u001b[1;33m)\u001b[0m\u001b[1;33m\u001b[0m\u001b[1;33m\u001b[0m\u001b[0m\n\u001b[0;32m      4\u001b[0m \u001b[0mprint\u001b[0m\u001b[1;33m(\u001b[0m\u001b[0mresult\u001b[0m\u001b[1;33m)\u001b[0m\u001b[1;33m\u001b[0m\u001b[1;33m\u001b[0m\u001b[0m\n\u001b[1;32m----> 5\u001b[1;33m \u001b[0mresult\u001b[0m \u001b[1;33m=\u001b[0m \u001b[0mx\u001b[0m\u001b[1;33m/\u001b[0m\u001b[0my\u001b[0m\u001b[1;33m\u001b[0m\u001b[1;33m\u001b[0m\u001b[0m\n\u001b[0m\u001b[0;32m      6\u001b[0m \u001b[0mprint\u001b[0m\u001b[1;33m(\u001b[0m\u001b[1;34m'Result = '\u001b[0m\u001b[1;33m,\u001b[0m \u001b[0mresult\u001b[0m\u001b[1;33m)\u001b[0m\u001b[1;33m\u001b[0m\u001b[1;33m\u001b[0m\u001b[0m\n",
      "\u001b[1;31mZeroDivisionError\u001b[0m: division by zero"
     ]
    }
   ],
   "source": [
    "result = None\n",
    "x = int(input('Number1: '))\n",
    "y = int(input('Number2: '))\n",
    "print(result)\n",
    "result = x/y\n",
    "print('Result = ', result)"
   ]
  },
  {
   "cell_type": "code",
   "execution_count": 40,
   "metadata": {},
   "outputs": [
    {
     "name": "stdout",
     "output_type": "stream",
     "text": [
      "Number 1: 10\n",
      "Number 2: 0\n",
      "None\n",
      "Error in the line\n",
      "Result = None\n"
     ]
    }
   ],
   "source": [
    "try:\n",
    "    result = None\n",
    "    x = int(input('Number 1: '))\n",
    "    y = int(input('Number 2: '))\n",
    "    print(result)\n",
    "    result = x/y\n",
    "except:\n",
    "    print('Error in the line')\n",
    "print('Result =', result)"
   ]
  },
  {
   "cell_type": "code",
   "execution_count": 41,
   "metadata": {},
   "outputs": [
    {
     "name": "stdout",
     "output_type": "stream",
     "text": [
      "Number 1: 10\n",
      "Number 2: 0\n",
      "None\n",
      "<class 'ZeroDivisionError'>\n",
      "Result =  None\n"
     ]
    }
   ],
   "source": [
    "try: \n",
    "    result = None\n",
    "    x = int(input('Number 1: '))\n",
    "    y = int(input('Number 2: '))\n",
    "    print(result)\n",
    "    result = x/y\n",
    "except Exception as e:\n",
    "    print(type(e))\n",
    "print('Result = ', result)"
   ]
  },
  {
   "cell_type": "code",
   "execution_count": 48,
   "metadata": {},
   "outputs": [
    {
     "name": "stdout",
     "output_type": "stream",
     "text": [
      "Number 1: 10\n",
      "Number 2: 0\n",
      "None\n",
      "division by zero\n",
      "Shoot an email\n"
     ]
    }
   ],
   "source": [
    "try: \n",
    "    result = None\n",
    "    x = int(input('Number 1: '))\n",
    "    y = int(input('Number 2: '))\n",
    "    print(result)\n",
    "    result = x/y\n",
    "except Exception as e:\n",
    "    print(e)\n",
    "else: \n",
    "    print('There is no error and the value of result is:', result)\n",
    "finally:\n",
    "    print('Shoot an email')"
   ]
  },
  {
   "cell_type": "code",
   "execution_count": 72,
   "metadata": {},
   "outputs": [],
   "source": [
    "nameage = '''Janice is 22 and Thron is 33\n",
    "Gabrial is 44 and Joey is 21'''"
   ]
  },
  {
   "cell_type": "code",
   "execution_count": 50,
   "metadata": {},
   "outputs": [],
   "source": [
    "import re"
   ]
  },
  {
   "cell_type": "code",
   "execution_count": 73,
   "metadata": {},
   "outputs": [],
   "source": [
    "ages = re.findall(r'\\d{1,5}',nameage)"
   ]
  },
  {
   "cell_type": "code",
   "execution_count": 60,
   "metadata": {},
   "outputs": [
    {
     "data": {
      "text/plain": [
       "['22', '33', '44', '21']"
      ]
     },
     "execution_count": 60,
     "metadata": {},
     "output_type": "execute_result"
    }
   ],
   "source": [
    "ages"
   ]
  },
  {
   "cell_type": "code",
   "execution_count": 76,
   "metadata": {},
   "outputs": [],
   "source": [
    "names = re.findall(r'[A-Z][a-z]*',nameage)"
   ]
  },
  {
   "cell_type": "code",
   "execution_count": 77,
   "metadata": {},
   "outputs": [
    {
     "data": {
      "text/plain": [
       "['Janice', 'Thron', 'Gabrial', 'Joey']"
      ]
     },
     "execution_count": 77,
     "metadata": {},
     "output_type": "execute_result"
    }
   ],
   "source": [
    "names"
   ]
  },
  {
   "cell_type": "code",
   "execution_count": 81,
   "metadata": {},
   "outputs": [
    {
     "name": "stdout",
     "output_type": "stream",
     "text": [
      "{'Janice': '22', 'Thron': '33', 'Gabrial': '44', 'Joey': '21'}\n"
     ]
    }
   ],
   "source": [
    "agedict = {}\n",
    "x = 0 \n",
    "for y in names:\n",
    "    agedict[y] = ages[x]\n",
    "    x = x+1\n",
    "print(agedict)"
   ]
  },
  {
   "cell_type": "code",
   "execution_count": 89,
   "metadata": {},
   "outputs": [],
   "source": [
    "a = 'we need to inform him with the latest information so that he will be informed'"
   ]
  },
  {
   "cell_type": "code",
   "execution_count": 90,
   "metadata": {},
   "outputs": [
    {
     "name": "stdout",
     "output_type": "stream",
     "text": [
      "Inform is available\n"
     ]
    }
   ],
   "source": [
    "if re.search('inform', a):\n",
    "    print('Inform is available')"
   ]
  },
  {
   "cell_type": "code",
   "execution_count": 91,
   "metadata": {},
   "outputs": [],
   "source": [
    "allinform = re.findall('inform',a)"
   ]
  },
  {
   "cell_type": "code",
   "execution_count": 92,
   "metadata": {},
   "outputs": [
    {
     "data": {
      "text/plain": [
       "['inform', 'inform', 'inform']"
      ]
     },
     "execution_count": 92,
     "metadata": {},
     "output_type": "execute_result"
    }
   ],
   "source": [
    "allinform"
   ]
  },
  {
   "cell_type": "code",
   "execution_count": 93,
   "metadata": {},
   "outputs": [
    {
     "name": "stdout",
     "output_type": "stream",
     "text": [
      "(11, 17)\n",
      "(38, 44)\n",
      "(69, 75)\n"
     ]
    }
   ],
   "source": [
    "for i in re.finditer('inform',a):\n",
    "    loc = i.span()\n",
    "    print(loc)"
   ]
  },
  {
   "cell_type": "code",
   "execution_count": 113,
   "metadata": {},
   "outputs": [],
   "source": [
    "str = 'Sat mat hat rat rat rat pat rat'"
   ]
  },
  {
   "cell_type": "code",
   "execution_count": 95,
   "metadata": {},
   "outputs": [],
   "source": [
    "allstr = re.findall('[Srp]at',str)"
   ]
  },
  {
   "cell_type": "code",
   "execution_count": 97,
   "metadata": {},
   "outputs": [],
   "source": [
    "allstr = re.findall('[^hm]at',str)"
   ]
  },
  {
   "cell_type": "code",
   "execution_count": 98,
   "metadata": {},
   "outputs": [
    {
     "data": {
      "text/plain": [
       "['Sat', 'rat', 'pat']"
      ]
     },
     "execution_count": 98,
     "metadata": {},
     "output_type": "execute_result"
    }
   ],
   "source": [
    "allstr"
   ]
  },
  {
   "cell_type": "code",
   "execution_count": 99,
   "metadata": {},
   "outputs": [
    {
     "data": {
      "text/plain": [
       "'Sat mat hat rat pat'"
      ]
     },
     "execution_count": 99,
     "metadata": {},
     "output_type": "execute_result"
    }
   ],
   "source": [
    "str"
   ]
  },
  {
   "cell_type": "code",
   "execution_count": 116,
   "metadata": {},
   "outputs": [],
   "source": [
    "reg = re.compile('[r]at')"
   ]
  },
  {
   "cell_type": "code",
   "execution_count": 117,
   "metadata": {},
   "outputs": [],
   "source": [
    "str = reg.sub('mouse',str)"
   ]
  },
  {
   "cell_type": "code",
   "execution_count": 115,
   "metadata": {},
   "outputs": [],
   "source": [
    "reg1 = re.compile('[m]at')"
   ]
  },
  {
   "cell_type": "code",
   "execution_count": 119,
   "metadata": {},
   "outputs": [],
   "source": [
    "str = reg1.sub('Nice',str)"
   ]
  },
  {
   "cell_type": "code",
   "execution_count": 120,
   "metadata": {},
   "outputs": [
    {
     "data": {
      "text/plain": [
       "'Sat Nice hat mouse mouse mouse pat mouse'"
      ]
     },
     "execution_count": 120,
     "metadata": {},
     "output_type": "execute_result"
    }
   ],
   "source": [
    "str"
   ]
  },
  {
   "cell_type": "code",
   "execution_count": 121,
   "metadata": {},
   "outputs": [],
   "source": [
    "text = 'Python for beginner is a very cool website'"
   ]
  },
  {
   "cell_type": "code",
   "execution_count": 123,
   "metadata": {},
   "outputs": [
    {
     "data": {
      "text/plain": [
       "'Python for beginner is a very good website'"
      ]
     },
     "execution_count": 123,
     "metadata": {},
     "output_type": "execute_result"
    }
   ],
   "source": [
    "re.sub('cool','good',text)"
   ]
  },
  {
   "cell_type": "code",
   "execution_count": 133,
   "metadata": {},
   "outputs": [],
   "source": [
    "phone = '01-554-2222'"
   ]
  },
  {
   "cell_type": "code",
   "execution_count": 134,
   "metadata": {},
   "outputs": [
    {
     "name": "stdout",
     "output_type": "stream",
     "text": [
      "It is not a valid number\n"
     ]
    }
   ],
   "source": [
    "if re.search('\\+\\d{4}-\\d{3}-\\d{4}', phone):\n",
    "    print('It is a valid number with country code')\n",
    "elif re.search('\\d{3}-\\d{3}-\\d{4}',phone):\n",
    "    print('It is a valid number without country code')\n",
    "elif re.search('\\(\\d{3}\\) \\d{3}-\\d{4}', phone):\n",
    "    print('It is a valid number with first 3 numbers in bracket')\n",
    "else:\n",
    "    print('It is not a valid number')"
   ]
  },
  {
   "cell_type": "code",
   "execution_count": 135,
   "metadata": {},
   "outputs": [],
   "source": [
    "import urllib.request"
   ]
  },
  {
   "cell_type": "code",
   "execution_count": 136,
   "metadata": {},
   "outputs": [],
   "source": [
    "url = 'http://www.summet.com/dmsi/html/codesamples/addresses.html'"
   ]
  },
  {
   "cell_type": "code",
   "execution_count": 138,
   "metadata": {},
   "outputs": [],
   "source": [
    "response = urllib.request.urlopen(url)\n",
    "html = response.read()\n",
    "htmlstr = html.decode()"
   ]
  },
  {
   "cell_type": "code",
   "execution_count": 139,
   "metadata": {},
   "outputs": [
    {
     "data": {
      "text/plain": [
       "'<html>\\n<head><title>Sample Addresses!</title></head>\\n<body>\\n<h1> A page full of sample addresses for your parsing enjoyment!</h1>\\n<h2> (All data is random....)</h2>\\n<ul>\\n<li>Cecilia Chapman<br/>711-2880 Nulla St.<br/>Mankato Mississippi 96522<br/>(257) 563-7401</li>\\n<li>Iris Watson<br/>P.O. Box 283 8562 Fusce Rd.<br/>Frederick Nebraska 20620<br/>(372) 587-2335</li>\\n<li>Celeste Slater<br/>606-3727 Ullamcorper. Street<br/>Roseville NH 11523<br/>(786) 713-8616</li>\\n<li>Theodore Lowe<br/>Ap #867-859 Sit Rd.<br/>Azusa New York 39531<br/>(793) 151-6230</li>\\n<li>Calista Wise<br/>7292 Dictum Av.<br/>San Antonio MI 47096<br/>(492) 709-6392</li>\\n<li>Kyla Olsen<br/>Ap #651-8679 Sodales Av.<br/>Tamuning PA 10855<br/>(654) 393-5734</li>\\n<li>Forrest Ray<br/>191-103 Integer Rd.<br/>Corona New Mexico 08219<br/>(404) 960-3807</li>\\n<li>Hiroko Potter<br/>P.O. Box 887 2508 Dolor. Av.<br/>Muskegon KY 12482<br/>(314) 244-6306</li>\\n<li>Nyssa Vazquez<br/>511-5762 At Rd.<br/>Chelsea MI 67708<br/>(947) 278-5929</li>\\n<li>Lawrence Moreno<br/>935-9940 Tortor. Street<br/>Santa Rosa MN 98804<br/>(684) 579-1879</li>\\n<li>Ina Moran<br/>P.O. Box 929 4189 Nunc Road<br/>Lebanon KY 69409<br/>(389) 737-2852</li>\\n<li>Aaron Hawkins<br/>5587 Nunc. Avenue<br/>Erie Rhode Island 24975<br/>(660) 663-4518</li>\\n<li>Hedy Greene<br/>Ap #696-3279 Viverra. Avenue<br/>Latrobe DE 38100<br/>(608) 265-2215</li>\\n<li>Melvin Porter<br/>P.O. Box 132 1599 Curabitur Rd.<br/>Bandera South Dakota 45149<br/>(959) 119-8364</li>\\n<li>Keefe Sellers<br/>347-7666 Iaculis St.<br/>Woodruff SC 49854<br/>(468) 353-2641</li>\\n<li>Joan Romero<br/>666-4366 Lacinia Avenue<br/>Idaho Falls Ohio 19253<br/>(248) 675-4007</li>\\n<li>Davis Patrick<br/>P.O. Box 147 2546 Sociosqu Rd.<br/>Bethlehem Utah 02913<br/>(939) 353-1107</li>\\n<li>Leilani Boyer<br/>557-6308 Lacinia Road<br/>San Bernardino ND 09289<br/>(570) 873-7090</li>\\n<li>Colby Bernard<br/>Ap #285-7193 Ullamcorper Avenue<br/>Amesbury HI 93373<br/>(302) 259-2375</li>\\n<li>Bryar Pitts<br/>5543 Aliquet St.<br/>Fort Dodge GA 20783<br/>(717) 450-4729</li>\\n<li>Rahim Henderson<br/>5037 Diam Rd.<br/>Daly City Ohio 90255<br/>(453) 391-4650</li>\\n<li>Noelle Adams<br/>6351 Fringilla Avenue<br/>Gardena Colorado 37547<br/>(559) 104-5475</li>\\n<li>Lillith Daniel<br/>935-1670 Neque. St.<br/>Centennial Delaware 48432<br/>(387) 142-9434</li>\\n<li>Adria Russell<br/>414-7533 Non Rd.<br/>Miami Beach North Dakota 58563<br/>(516) 745-4496</li>\\n<li>Hilda Haynes<br/>778-9383 Suspendisse Av.<br/>Weirton IN 93479<br/>(326) 677-3419</li>\\n<li>Sheila Mcintosh<br/>P.O. Box 360 4407 Et Rd.<br/>Santa Monica FL 30309<br/>(746) 679-2470</li>\\n<li>Rebecca Chambers<br/>P.O. Box 813 5982 Sit Ave<br/>Liberal Vermont 51324<br/>(455) 430-0989</li>\\n<li>Christian Emerson<br/>P.O. Box 886 4118 Arcu St.<br/>Rolling Hills Georgia 92358<br/>(490) 936-4694</li>\\n<li>Nevada Ware<br/>P.O. Box 597 4156 Tincidunt Ave<br/>Green Bay Indiana 19759<br/>(985) 834-8285</li>\\n<li>Margaret Joseph<br/>P.O. Box 508 3919 Gravida St.<br/>Tamuning Washington 55797<br/>(662) 661-1446</li>\\n<li>Edward Nieves<br/>928-3313 Vel Av.<br/>Idaho Falls Rhode Island 37232<br/>(802) 668-8240</li>\\n<li>Imani Talley<br/>P.O. Box 262 4978 Sit St.<br/>Yigo Massachusetts 50654<br/>(477) 768-9247</li>\\n<li>Bertha Riggs<br/>P.O. Box 206 6639 In St.<br/>Easthampton TN 31626<br/>(791) 239-9057</li>\\n<li>Wallace Ross<br/>313 Pellentesque Ave<br/>Villa Park Hawaii 43526<br/>(832) 109-0213</li>\\n<li>Chester Bennett<br/>3476 Aliquet. Ave<br/>Minot AZ 95302<br/>(837) 196-3274</li>\\n<li>Castor Richardson<br/>P.O. Box 902 3472 Ullamcorper Street<br/>Lynchburg DC 29738<br/>(268) 442-2428</li>\\n<li>Sonya Jordan<br/>Ap #443-336 Ullamcorper. Street<br/>Visalia VA 54886<br/>(850) 676-5117</li>\\n<li>Harrison Mcguire<br/>574-8633 Arcu Street<br/>San Fernando ID 77373<br/>(861) 546-5032</li>\\n<li>Malcolm Long<br/>9291 Proin Road<br/>Lake Charles Maine 11292<br/>(176) 805-4108</li>\\n<li>Raymond Levy<br/>Ap #643-7006 Risus St.<br/>Beaumont New Mexico 73585<br/>(715) 912-6931</li>\\n<li>Hedley Ingram<br/>737-2580 At Street<br/>Independence Texas 87535<br/>(993) 554-0563</li>\\n<li>David Mathews<br/>1011 Malesuada Road<br/>Moscow Kentucky 77382<br/>(357) 616-5411</li>\\n<li>Xyla Cash<br/>969-1762 Tincidunt Rd.<br/>Boise CT 35282<br/>(121) 347-0086</li>\\n<li>Madeline Gregory<br/>977-4841 Ut Ave<br/>Walla Walla Michigan 82776<br/>(304) 506-6314</li>\\n<li>Griffith Daniels<br/>6818 Eget St.<br/>Tacoma AL 92508<br/>(425) 288-2332</li>\\n<li>Anne Beasley<br/>987-4223 Urna St.<br/>Savannah Illinois 85794<br/>(145) 987-4962</li>\\n<li>Chaney Bennett<br/>P.O. Box 721 902 Dolor Rd.<br/>Fremont AK 19408<br/>(187) 582-9707</li>\\n<li>Daniel Bernard<br/>P.O. Box 567 1561 Duis Rd.<br/>Pomona TN 08609<br/>(750) 558-3965</li>\\n<li>Willow Hunt<br/>Ap #784-1887 Lobortis Ave<br/>Cudahy Ohio 31522<br/>(492) 467-3131</li>\\n<li>Judith Floyd<br/>361-7936 Feugiat St.<br/>Williston Nevada 58521<br/>(774) 914-2510</li>\\n<li>Seth Farley<br/>6216 Aenean Avenue<br/>Seattle Utah 81202<br/>(888) 106-8550</li>\\n<li>Zephania Sanders<br/>3714 Nascetur St.<br/>Hawthorne Louisiana 10626<br/>(539) 567-3573</li>\\n<li>Calista Merritt<br/>Ap #938-5470 Posuere Ave<br/>Chickasha LA 58520<br/>(693) 337-2849</li>\\n<li>Craig Williams<br/>P.O. Box 372 5634 Montes Rd.<br/>Springdale MO 57692<br/>(545) 604-9386</li>\\n<li>Lee Preston<br/>981 Eget Rd.<br/>Clemson GA 04645<br/>(221) 156-5026</li>\\n<li>Katelyn Cooper<br/>6059 Sollicitudin Road<br/>Burlingame Colorado 26278<br/>(414) 876-0865</li>\\n<li>Lacy Eaton<br/>1379 Nulla. Av.<br/>Asbury Park Montana 69679<br/>(932) 726-8645</li>\\n<li>Driscoll Leach<br/>P.O. Box 120 2410 Odio Avenue<br/>Pass Christian Delaware 03869<br/>(726) 710-9826</li>\\n<li>Merritt Watson<br/>P.O. Box 686 7014 Amet Street<br/>Corona Oklahoma 55246<br/>(622) 594-1662</li>\\n<li>Nehru Holmes<br/>P.O. Box 547 4764 Sed Road<br/>Grand Rapids CT 87323<br/>(948) 600-8503</li>\\n<li>Quamar Rivera<br/>427-5827 Ac St.<br/>Schaumburg Arkansas 84872<br/>(605) 900-7508</li>\\n<li>Hiram Mullins<br/>754-6427 Nunc Ave<br/>Kennewick AL 41329<br/>(716) 977-5775</li>\\n<li>Kim Fletcher<br/>Ap #345-3847 Metus Road<br/>Independence CO 30135<br/>(368) 239-8275</li>\\n<li>Rigel Koch<br/>P.O. Box 558 9561 Lacus. Road<br/>Laughlin Hawaii 99602<br/>(725) 342-0650</li>\\n<li>Jeanette Sharpe<br/>Ap #364-2006 Ipsum Avenue<br/>Wilmington Ohio 91750<br/>(711) 993-5187</li>\\n<li>Dahlia Lee<br/>1293 Tincidunt Street<br/>Atwater Pennsylvania 76865<br/>(882) 399-5084</li>\\n<li>Howard Hayden<br/>P.O. Box 847 8019 Facilisis Street<br/>Joliet SC 73490<br/>(287) 755-9948</li>\\n<li>Hyatt Kramer<br/>1011 Massa Av.<br/>Kent ID 63725<br/>(659) 551-3389</li>\\n<li>Sonya Ray<br/>Ap #315-8441 Eleifend Street<br/>Fairbanks RI 96892<br/>(275) 730-6868</li>\\n<li>Cara Whitehead<br/>4005 Praesent St.<br/>Torrance Wyoming 22767<br/>(725) 757-4047</li>\\n<li>Blythe Carroll<br/>7709 Justo. Ave<br/>Princeton TX 77987<br/>(314) 882-1496</li>\\n<li>Dale Griffin<br/>P.O. Box 854 8580 In Ave<br/>Revere South Dakota 43841<br/>(639) 360-7590</li>\\n<li>McKenzie Hernandez<br/>Ap #367-674 Mi Street<br/>Greensboro VT 40684<br/>(168) 222-1592</li>\\n<li>Haviva Holcomb<br/>P.O. Box 642 3450 In Road<br/>Isle of Palms New York 03828<br/>(896) 303-1164</li>\\n<li>Ezra Duffy<br/>Ap #782-7348 Dis Rd.<br/>Austin KY 50710<br/>(203) 982-6130</li>\\n<li>Eleanor Jennings<br/>9631 Semper Ave<br/>Astoria NJ 66309<br/>(906) 217-1470</li>\\n<li>Remedios Hester<br/>487-5787 Mollis St.<br/>City of Industry Louisiana 67973<br/>(614) 514-1269</li>\\n<li>Jasper Carney<br/>1195 Lobortis Rd.<br/>New Orleans New Hampshire 71983<br/>(763) 409-5446</li>\\n<li>Vielka Nielsen<br/>Ap #517-7326 Elementum Rd.<br/>Fort Smith North Dakota 79637<br/>(836) 292-5324</li>\\n<li>Wilma Pace<br/>Ap #676-6532 Odio Rd.<br/>Darlington CO 06963<br/>(926) 709-3295</li>\\n<li>Palmer Gay<br/>557-2026 Purus St.<br/>Watertown TN 07367<br/>(963) 356-9268</li>\\n<li>Lyle Sutton<br/>Ap #250-9843 Elementum St.<br/>South Gate Missouri 68999<br/>(736) 522-8584</li>\\n<li>Ina Burt<br/>Ap #130-1685 Ut Street<br/>Tyler KS 73510<br/>(410) 483-0352</li>\\n<li>Cleo Best<br/>282-8351 Tincidunt Ave<br/>Sedalia Utah 53700<br/>(252) 204-1434</li>\\n<li>Hu Park<br/>1429 Netus Rd.<br/>Reedsport NY 48247<br/>(874) 886-4174</li>\\n<li>Liberty Walton<br/>343-6527 Purus. Avenue<br/>Logan NV 12657<br/>(581) 379-7573</li>\\n<li>Aaron Trujillo<br/>Ap #146-3132 Cras Rd.<br/>Kingsport NH 56618<br/>(983) 632-8597</li>\\n<li>Elmo Lopez<br/>Ap #481-7473 Cum Rd.<br/>Yorba Linda South Carolina 28423<br/>(295) 983-3476</li>\\n<li>Emerson Espinoza<br/>Ap #247-5577 Tincidunt St.<br/>Corpus Christi WI 97020<br/>(873) 392-8802</li>\\n<li>Daniel Malone<br/>2136 Adipiscing Av.<br/>Lima RI 93490<br/>(360) 669-3923</li>\\n<li>Dante Bennett<br/>481-8762 Nulla Street<br/>Dearborn OR 62401<br/>(840) 987-9449</li>\\n<li>Sade Higgins<br/>Ap #287-3260 Ut St.<br/>Wilmington OR 05182<br/>(422) 517-6053</li>\\n<li>Zorita Anderson<br/>1964 Facilisis Avenue<br/>Bell Gardens Texas 87065<br/>(126) 940-2753</li>\\n<li>Jordan Calderon<br/>430-985 Eleifend St.<br/>Duluth Washington 92611<br/>(427) 930-5255</li>\\n<li>Ivor Delgado<br/>Ap #310-1678 Ut Av.<br/>Santa Barbara MT 88317<br/>(689) 721-5145</li>\\n<li>Pascale Patton<br/>P.O. Box 399 4275 Amet Street<br/>West Allis NC 36734<br/>(676) 334-2174</li>\\n<li>Nasim Strong<br/>Ap #630-3889 Nulla. Street<br/>Watervliet Oklahoma 70863<br/>(437) 994-5270</li>\\n<li>Keaton Underwood<br/>Ap #636-8082 Arcu Avenue<br/>Thiensville Maryland 19587<br/>(564) 908-6970</li>\\n<li>Keegan Blair<br/>Ap #761-2515 Egestas. Rd.<br/>Manitowoc TN 07528<br/>(577) 333-6244</li>\\n<li>Tamara Howe<br/>3415 Lobortis. Avenue<br/>Rocky Mount WA 48580<br/>(655) 840-6139</li>\\n </ul> </body></html>'"
      ]
     },
     "execution_count": 139,
     "metadata": {},
     "output_type": "execute_result"
    }
   ],
   "source": [
    "htmlstr"
   ]
  },
  {
   "cell_type": "code",
   "execution_count": 141,
   "metadata": {},
   "outputs": [],
   "source": [
    "pdata = re.findall('\\(\\d{3}\\) \\d{3}-\\d{4}', htmlstr)"
   ]
  },
  {
   "cell_type": "code",
   "execution_count": 149,
   "metadata": {},
   "outputs": [],
   "source": [
    "import pandas as pd\n",
    "phone_no = pd.DataFrame(pdata)"
   ]
  },
  {
   "cell_type": "code",
   "execution_count": 151,
   "metadata": {},
   "outputs": [],
   "source": [
    "phone_no.to_excel('Phone_No.xls')"
   ]
  },
  {
   "cell_type": "code",
   "execution_count": 152,
   "metadata": {},
   "outputs": [
    {
     "data": {
      "text/plain": [
       "'C:\\\\Users\\\\Admin\\\\Desktop\\\\PYTHON MODULES'"
      ]
     },
     "execution_count": 152,
     "metadata": {},
     "output_type": "execute_result"
    }
   ],
   "source": [
    "os.getcwd()"
   ]
  },
  {
   "cell_type": "code",
   "execution_count": 145,
   "metadata": {},
   "outputs": [
    {
     "name": "stdout",
     "output_type": "stream",
     "text": [
      "(257) 563-7401\n",
      "(372) 587-2335\n",
      "(786) 713-8616\n",
      "(793) 151-6230\n",
      "(492) 709-6392\n",
      "(654) 393-5734\n",
      "(404) 960-3807\n",
      "(314) 244-6306\n",
      "(947) 278-5929\n",
      "(684) 579-1879\n",
      "(389) 737-2852\n",
      "(660) 663-4518\n",
      "(608) 265-2215\n",
      "(959) 119-8364\n",
      "(468) 353-2641\n",
      "(248) 675-4007\n",
      "(939) 353-1107\n",
      "(570) 873-7090\n",
      "(302) 259-2375\n",
      "(717) 450-4729\n",
      "(453) 391-4650\n",
      "(559) 104-5475\n",
      "(387) 142-9434\n",
      "(516) 745-4496\n",
      "(326) 677-3419\n",
      "(746) 679-2470\n",
      "(455) 430-0989\n",
      "(490) 936-4694\n",
      "(985) 834-8285\n",
      "(662) 661-1446\n",
      "(802) 668-8240\n",
      "(477) 768-9247\n",
      "(791) 239-9057\n",
      "(832) 109-0213\n",
      "(837) 196-3274\n",
      "(268) 442-2428\n",
      "(850) 676-5117\n",
      "(861) 546-5032\n",
      "(176) 805-4108\n",
      "(715) 912-6931\n",
      "(993) 554-0563\n",
      "(357) 616-5411\n",
      "(121) 347-0086\n",
      "(304) 506-6314\n",
      "(425) 288-2332\n",
      "(145) 987-4962\n",
      "(187) 582-9707\n",
      "(750) 558-3965\n",
      "(492) 467-3131\n",
      "(774) 914-2510\n",
      "(888) 106-8550\n",
      "(539) 567-3573\n",
      "(693) 337-2849\n",
      "(545) 604-9386\n",
      "(221) 156-5026\n",
      "(414) 876-0865\n",
      "(932) 726-8645\n",
      "(726) 710-9826\n",
      "(622) 594-1662\n",
      "(948) 600-8503\n",
      "(605) 900-7508\n",
      "(716) 977-5775\n",
      "(368) 239-8275\n",
      "(725) 342-0650\n",
      "(711) 993-5187\n",
      "(882) 399-5084\n",
      "(287) 755-9948\n",
      "(659) 551-3389\n",
      "(275) 730-6868\n",
      "(725) 757-4047\n",
      "(314) 882-1496\n",
      "(639) 360-7590\n",
      "(168) 222-1592\n",
      "(896) 303-1164\n",
      "(203) 982-6130\n",
      "(906) 217-1470\n",
      "(614) 514-1269\n",
      "(763) 409-5446\n",
      "(836) 292-5324\n",
      "(926) 709-3295\n",
      "(963) 356-9268\n",
      "(736) 522-8584\n",
      "(410) 483-0352\n",
      "(252) 204-1434\n",
      "(874) 886-4174\n",
      "(581) 379-7573\n",
      "(983) 632-8597\n",
      "(295) 983-3476\n",
      "(873) 392-8802\n",
      "(360) 669-3923\n",
      "(840) 987-9449\n",
      "(422) 517-6053\n",
      "(126) 940-2753\n",
      "(427) 930-5255\n",
      "(689) 721-5145\n",
      "(676) 334-2174\n",
      "(437) 994-5270\n",
      "(564) 908-6970\n",
      "(577) 333-6244\n",
      "(655) 840-6139\n"
     ]
    }
   ],
   "source": [
    "for i in pdata:\n",
    "    print(i)"
   ]
  },
  {
   "cell_type": "markdown",
   "metadata": {},
   "source": [
    "# OOPs Concept"
   ]
  },
  {
   "cell_type": "code",
   "execution_count": 154,
   "metadata": {},
   "outputs": [
    {
     "name": "stdout",
     "output_type": "stream",
     "text": [
      "Name: Rahul\n",
      "Age: 34\n",
      "Marks: 34\n",
      "Hi Rahul\n",
      "Your age is:  34\n",
      "Your marks is :  34\n"
     ]
    }
   ],
   "source": [
    "n = input('Name: ')\n",
    "a = int(input('Age: '))\n",
    "m = int(input('Marks: '))\n",
    "\n",
    "class Student: \n",
    "        def __init__(self, n,a,m):\n",
    "            self.name = n\n",
    "            self.age = a\n",
    "            self.marks = m\n",
    "        def display(self):\n",
    "            print('Hi', self.name)\n",
    "            print('Your age is: ', self.age)\n",
    "            print('Your marks is : ', self.marks)\n",
    "\n",
    "s1 = Student(n,a,m)\n",
    "s1.display()"
   ]
  },
  {
   "cell_type": "code",
   "execution_count": 158,
   "metadata": {},
   "outputs": [
    {
     "name": "stdout",
     "output_type": "stream",
     "text": [
      "Name: Rahul\n",
      "Age: 33\n",
      "Marks: 21\n",
      "Hi Rahul\n",
      "Your age is:  33\n",
      "Your marks is :  21\n"
     ]
    }
   ],
   "source": [
    "n = input('Name: ')\n",
    "a = int(input('Age: '))\n",
    "m = int(input('Marks: '))\n",
    "s1 = Student(n,a,m)\n",
    "s1.display()"
   ]
  },
  {
   "cell_type": "code",
   "execution_count": 159,
   "metadata": {},
   "outputs": [
    {
     "name": "stdout",
     "output_type": "stream",
     "text": [
      "Name: Rohan \n",
      "Age: 34\n",
      "Marks: 54\n",
      "Hi Rohan \n",
      "Your age is:  34\n",
      "Your marks is :  54\n"
     ]
    }
   ],
   "source": [
    "n = input('Name: ')\n",
    "a = int(input('Age: '))\n",
    "m = int(input('Marks: '))\n",
    "s2 = Student(n,a,m)\n",
    "s2.display()"
   ]
  },
  {
   "cell_type": "code",
   "execution_count": 160,
   "metadata": {},
   "outputs": [],
   "source": [
    "class Student:\n",
    "    def __init__(self, n,a,**m):\n",
    "        self.name = n\n",
    "        self.age = a\n",
    "        self.marks = m\n",
    "    def display(self):\n",
    "        print('Hi', self.name)\n",
    "        print('Your age is:', self.age)\n",
    "        print('Your marks is: ', self.marks)"
   ]
  },
  {
   "cell_type": "code",
   "execution_count": 163,
   "metadata": {},
   "outputs": [
    {
     "name": "stdout",
     "output_type": "stream",
     "text": [
      "Hi Rahul\n",
      "Your age is: 34\n",
      "Your marks is:  {'science': 35, 'maths': 43, 'english': 54}\n"
     ]
    }
   ],
   "source": [
    "s1 = Student('Rahul', 34, science=35, maths = 43, english = 54)\n",
    "s1.display()"
   ]
  },
  {
   "cell_type": "code",
   "execution_count": 164,
   "metadata": {},
   "outputs": [],
   "source": [
    "class Student:\n",
    "    def __init__(self, n,a,**m):\n",
    "        self.name = n\n",
    "        self.age = a\n",
    "        self.marks = m\n",
    "    def display(self):\n",
    "        print('Hi', n)\n",
    "        print('Your age is:', a)\n",
    "        print('Your marks is: ', m)"
   ]
  },
  {
   "cell_type": "code",
   "execution_count": 166,
   "metadata": {},
   "outputs": [
    {
     "name": "stdout",
     "output_type": "stream",
     "text": [
      "Hi Rohan \n",
      "Your age is: 34\n",
      "Your marks is:  54\n"
     ]
    }
   ],
   "source": [
    "s1 = Student('Rahul', 34, science=34)\n",
    "s1.display()"
   ]
  },
  {
   "cell_type": "code",
   "execution_count": 167,
   "metadata": {},
   "outputs": [
    {
     "data": {
      "text/plain": [
       "'Rohan '"
      ]
     },
     "execution_count": 167,
     "metadata": {},
     "output_type": "execute_result"
    }
   ],
   "source": [
    "n"
   ]
  },
  {
   "cell_type": "code",
   "execution_count": 168,
   "metadata": {},
   "outputs": [],
   "source": [
    "class Polygon:\n",
    "    __width = None\n",
    "    __height = None\n",
    "    \n",
    "    def set_values(self, width, height):\n",
    "        self.__width = width\n",
    "        self.__height = height\n",
    "    def get_width(self):\n",
    "        return self.__width\n",
    "    def get_height(self):\n",
    "        return self.__height"
   ]
  },
  {
   "cell_type": "code",
   "execution_count": 169,
   "metadata": {},
   "outputs": [],
   "source": [
    "class square(Polygon):\n",
    "    def area(self):\n",
    "        return self.get_width()*self.get_height()"
   ]
  },
  {
   "cell_type": "code",
   "execution_count": 170,
   "metadata": {},
   "outputs": [
    {
     "name": "stdout",
     "output_type": "stream",
     "text": [
      "120\n"
     ]
    }
   ],
   "source": [
    "s1 = square()\n",
    "s1.set_values(8,15)\n",
    "print(s1.area())"
   ]
  },
  {
   "cell_type": "code",
   "execution_count": 171,
   "metadata": {},
   "outputs": [],
   "source": [
    "class Triangle(Polygon):\n",
    "    def area(self):\n",
    "        return self.get_width()*self.get_height()*1/2"
   ]
  },
  {
   "cell_type": "code",
   "execution_count": 174,
   "metadata": {},
   "outputs": [
    {
     "name": "stdout",
     "output_type": "stream",
     "text": [
      "60.0\n"
     ]
    },
    {
     "data": {
      "text/plain": [
       "8"
      ]
     },
     "execution_count": 174,
     "metadata": {},
     "output_type": "execute_result"
    }
   ],
   "source": [
    "t1 = Triangle()\n",
    "t1.set_values(8,15)\n",
    "print(t1.area())\n",
    "t1.get_width()"
   ]
  },
  {
   "cell_type": "code",
   "execution_count": 175,
   "metadata": {},
   "outputs": [],
   "source": [
    "class Salary:\n",
    "    def __init__(self, pay, reward):\n",
    "        self.pay = pay\n",
    "        self.reward = reward\n",
    "    def annual_salary(self):\n",
    "        return (self.pay*12) + self.reward"
   ]
  },
  {
   "cell_type": "code",
   "execution_count": 176,
   "metadata": {},
   "outputs": [],
   "source": [
    "class Employee: \n",
    "    def __init__(self, name, position, pay, reward):\n",
    "        self.name = name\n",
    "        self.position=position\n",
    "        self.final_salary = Salary(pay,reward)\n",
    "    def final_salary_m(self):\n",
    "        return self.final_salary.annual_salary()"
   ]
  },
  {
   "cell_type": "code",
   "execution_count": 177,
   "metadata": {},
   "outputs": [],
   "source": [
    "emp = Employee('Rahul','PyDev', 100000,10000)"
   ]
  },
  {
   "cell_type": "code",
   "execution_count": 178,
   "metadata": {},
   "outputs": [
    {
     "name": "stdout",
     "output_type": "stream",
     "text": [
      "1210000\n"
     ]
    }
   ],
   "source": [
    "print(emp.final_salary_m())"
   ]
  },
  {
   "cell_type": "code",
   "execution_count": 179,
   "metadata": {},
   "outputs": [],
   "source": [
    "class Salary:\n",
    "    def __init__(self,pay,reward):\n",
    "        self.pay = pay\n",
    "        self.reward = reward\n",
    "    def annual_salary(self):\n",
    "        return (self.pay*12) + self.reward"
   ]
  },
  {
   "cell_type": "code",
   "execution_count": 180,
   "metadata": {},
   "outputs": [],
   "source": [
    "class Employee:\n",
    "    def __init__(self, name, position, sal):\n",
    "        self.name = name\n",
    "        self.position = position\n",
    "        self.final_salary = sal\n",
    "    def final_salary_m(self):\n",
    "        return self.final_salary.annual_salary()"
   ]
  },
  {
   "cell_type": "code",
   "execution_count": 182,
   "metadata": {},
   "outputs": [
    {
     "name": "stdout",
     "output_type": "stream",
     "text": [
      "1210000\n"
     ]
    }
   ],
   "source": [
    "sal = Salary(100000,10000)\n",
    "emp = Employee('Rahul','PyDev',sal)\n",
    "print(emp.final_salary_m())"
   ]
  }
 ],
 "metadata": {
  "kernelspec": {
   "display_name": "Python 3",
   "language": "python",
   "name": "python3"
  },
  "language_info": {
   "codemirror_mode": {
    "name": "ipython",
    "version": 3
   },
   "file_extension": ".py",
   "mimetype": "text/x-python",
   "name": "python",
   "nbconvert_exporter": "python",
   "pygments_lexer": "ipython3",
   "version": "3.7.4"
  }
 },
 "nbformat": 4,
 "nbformat_minor": 2
}
