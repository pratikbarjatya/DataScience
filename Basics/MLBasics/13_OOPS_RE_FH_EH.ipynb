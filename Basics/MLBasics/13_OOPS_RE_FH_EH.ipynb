{
 "cells": [
  {
   "cell_type": "code",
   "execution_count": null,
   "metadata": {},
   "outputs": [],
   "source": [
    "#Database connectivity\n",
    "#Reinforcement Learning\n",
    "#Clustering with PCA \n",
    "#Grid Search\n",
    "\n",
    "#From a column u need to find the value\n",
    "\n",
    "#End to end flow\n",
    "#Github\n",
    "#Linkedin profile"
   ]
  },
  {
   "cell_type": "markdown",
   "metadata": {},
   "source": [
    "# Exception Handling"
   ]
  },
  {
   "cell_type": "code",
   "execution_count": 31,
   "metadata": {},
   "outputs": [
    {
     "ename": "SyntaxError",
     "evalue": "invalid syntax (<ipython-input-31-407feb4dca75>, line 2)",
     "output_type": "error",
     "traceback": [
      "\u001b[1;36m  File \u001b[1;32m\"<ipython-input-31-407feb4dca75>\"\u001b[1;36m, line \u001b[1;32m2\u001b[0m\n\u001b[1;33m    if x==1\u001b[0m\n\u001b[1;37m           ^\u001b[0m\n\u001b[1;31mSyntaxError\u001b[0m\u001b[1;31m:\u001b[0m invalid syntax\n"
     ]
    }
   ],
   "source": [
    "x =1\n",
    "if x==1\n",
    "    print('Hello')"
   ]
  },
  {
   "cell_type": "code",
   "execution_count": 32,
   "metadata": {},
   "outputs": [
    {
     "data": {
      "text/plain": [
       "200.0"
      ]
     },
     "execution_count": 32,
     "metadata": {},
     "output_type": "execute_result"
    }
   ],
   "source": [
    "def inc(sal):\n",
    "    sal = sal*20/100\n",
    "    return sal\n",
    "sal = inc(1000)\n",
    "sal"
   ]
  },
  {
   "cell_type": "code",
   "execution_count": 34,
   "metadata": {},
   "outputs": [
    {
     "name": "stdout",
     "output_type": "stream",
     "text": [
      "Number 1: 10\n",
      "Number 2: 0\n",
      "None\n"
     ]
    },
    {
     "ename": "ZeroDivisionError",
     "evalue": "division by zero",
     "output_type": "error",
     "traceback": [
      "\u001b[1;31m---------------------------------------------------------------------------\u001b[0m",
      "\u001b[1;31mZeroDivisionError\u001b[0m                         Traceback (most recent call last)",
      "\u001b[1;32m<ipython-input-34-484d922e9fd0>\u001b[0m in \u001b[0;36m<module>\u001b[1;34m\u001b[0m\n\u001b[0;32m      3\u001b[0m \u001b[0my\u001b[0m \u001b[1;33m=\u001b[0m \u001b[0mint\u001b[0m\u001b[1;33m(\u001b[0m\u001b[0minput\u001b[0m\u001b[1;33m(\u001b[0m\u001b[1;34m'Number 2: '\u001b[0m\u001b[1;33m)\u001b[0m\u001b[1;33m)\u001b[0m\u001b[1;33m\u001b[0m\u001b[1;33m\u001b[0m\u001b[0m\n\u001b[0;32m      4\u001b[0m \u001b[0mprint\u001b[0m\u001b[1;33m(\u001b[0m\u001b[0mresult\u001b[0m\u001b[1;33m)\u001b[0m\u001b[1;33m\u001b[0m\u001b[1;33m\u001b[0m\u001b[0m\n\u001b[1;32m----> 5\u001b[1;33m \u001b[0mresult\u001b[0m \u001b[1;33m=\u001b[0m \u001b[0mx\u001b[0m\u001b[1;33m/\u001b[0m\u001b[0my\u001b[0m\u001b[1;33m\u001b[0m\u001b[1;33m\u001b[0m\u001b[0m\n\u001b[0m\u001b[0;32m      6\u001b[0m \u001b[0mprint\u001b[0m\u001b[1;33m(\u001b[0m\u001b[1;34m'------New Line------'\u001b[0m\u001b[1;33m)\u001b[0m\u001b[1;33m\u001b[0m\u001b[1;33m\u001b[0m\u001b[0m\n\u001b[0;32m      7\u001b[0m \u001b[0mprint\u001b[0m\u001b[1;33m(\u001b[0m\u001b[1;34m'Result ='\u001b[0m\u001b[1;33m,\u001b[0m \u001b[0mresult\u001b[0m\u001b[1;33m)\u001b[0m\u001b[1;33m\u001b[0m\u001b[1;33m\u001b[0m\u001b[0m\n",
      "\u001b[1;31mZeroDivisionError\u001b[0m: division by zero"
     ]
    }
   ],
   "source": [
    "result = None\n",
    "x = int(input('Number 1: '))\n",
    "y = int(input('Number 2: '))\n",
    "print(result)\n",
    "result = x/y\n",
    "print('------New Line------')\n",
    "print('Result =', result)"
   ]
  },
  {
   "cell_type": "code",
   "execution_count": 35,
   "metadata": {},
   "outputs": [
    {
     "name": "stdout",
     "output_type": "stream",
     "text": [
      "Number 1: 10\n",
      "Number 2: 1\n",
      "-----New Line------\n",
      "Result =  10.0\n"
     ]
    }
   ],
   "source": [
    "result = None\n",
    "x = int(input('Number 1: '))\n",
    "y = int(input('Number 2: '))\n",
    "try:\n",
    "    result = x/y\n",
    "except:\n",
    "    print('Error with our code')\n",
    "print('-----New Line------')\n",
    "print('Result = ', result)"
   ]
  },
  {
   "cell_type": "code",
   "execution_count": 36,
   "metadata": {},
   "outputs": [
    {
     "name": "stdout",
     "output_type": "stream",
     "text": [
      "Number 1: 10\n",
      "Number 2: 0\n",
      "<class 'TypeError'>\n",
      "---New line---\n",
      "Result =  None\n"
     ]
    }
   ],
   "source": [
    "result = None\n",
    "x = input('Number 1: ')\n",
    "y = input('Number 2: ')\n",
    "try:\n",
    "    result = x/y\n",
    "except Exception as e:\n",
    "    print(type(e))\n",
    "print('---New line---')\n",
    "print('Result = ', result)"
   ]
  },
  {
   "cell_type": "code",
   "execution_count": 37,
   "metadata": {},
   "outputs": [
    {
     "name": "stdout",
     "output_type": "stream",
     "text": [
      "Number 1: 10\n",
      "Number 2: 0\n"
     ]
    },
    {
     "ename": "ZeroDivisionError",
     "evalue": "division by zero",
     "output_type": "error",
     "traceback": [
      "\u001b[1;31m---------------------------------------------------------------------------\u001b[0m",
      "\u001b[1;31mZeroDivisionError\u001b[0m                         Traceback (most recent call last)",
      "\u001b[1;32m<ipython-input-37-27117690e74b>\u001b[0m in \u001b[0;36m<module>\u001b[1;34m\u001b[0m\n\u001b[0;32m      3\u001b[0m \u001b[0my\u001b[0m \u001b[1;33m=\u001b[0m \u001b[0mint\u001b[0m\u001b[1;33m(\u001b[0m\u001b[0minput\u001b[0m\u001b[1;33m(\u001b[0m\u001b[1;34m'Number 2: '\u001b[0m\u001b[1;33m)\u001b[0m\u001b[1;33m)\u001b[0m\u001b[1;33m\u001b[0m\u001b[1;33m\u001b[0m\u001b[0m\n\u001b[0;32m      4\u001b[0m \u001b[1;32mtry\u001b[0m\u001b[1;33m:\u001b[0m\u001b[1;33m\u001b[0m\u001b[1;33m\u001b[0m\u001b[0m\n\u001b[1;32m----> 5\u001b[1;33m     \u001b[0mresult\u001b[0m \u001b[1;33m=\u001b[0m \u001b[0mx\u001b[0m\u001b[1;33m/\u001b[0m\u001b[0my\u001b[0m\u001b[1;33m\u001b[0m\u001b[1;33m\u001b[0m\u001b[0m\n\u001b[0m\u001b[0;32m      6\u001b[0m \u001b[1;32mexcept\u001b[0m \u001b[0mTypeError\u001b[0m \u001b[1;32mas\u001b[0m \u001b[0me\u001b[0m\u001b[1;33m:\u001b[0m\u001b[1;33m\u001b[0m\u001b[1;33m\u001b[0m\u001b[0m\n\u001b[0;32m      7\u001b[0m     \u001b[0mprint\u001b[0m\u001b[1;33m(\u001b[0m\u001b[0mtype\u001b[0m\u001b[1;33m(\u001b[0m\u001b[0me\u001b[0m\u001b[1;33m)\u001b[0m\u001b[1;33m)\u001b[0m\u001b[1;33m\u001b[0m\u001b[1;33m\u001b[0m\u001b[0m\n",
      "\u001b[1;31mZeroDivisionError\u001b[0m: division by zero"
     ]
    }
   ],
   "source": [
    "result = None\n",
    "x = int(input('Number 1: '))\n",
    "y = int(input('Number 2: '))\n",
    "try:\n",
    "    result = x/y\n",
    "except TypeError as e:\n",
    "    print(type(e))\n",
    "print('---New Line----')\n",
    "print('Result : ', result)"
   ]
  },
  {
   "cell_type": "code",
   "execution_count": 38,
   "metadata": {},
   "outputs": [
    {
     "name": "stdout",
     "output_type": "stream",
     "text": [
      "Number 1: 10\n",
      "Number 2: 0\n",
      "<class 'TypeError'>\n",
      "---New Line---\n",
      "Result =  None\n"
     ]
    }
   ],
   "source": [
    "result = None\n",
    "x = input('Number 1: ')\n",
    "y = input('Number 2: ')\n",
    "try:\n",
    "    result = x/y\n",
    "except TypeError as e:\n",
    "    print(type(e))\n",
    "except ZeroDivisionError as e:\n",
    "    print(type(e))\n",
    "print('---New Line---')\n",
    "print('Result = ', result)"
   ]
  },
  {
   "cell_type": "code",
   "execution_count": 39,
   "metadata": {},
   "outputs": [
    {
     "name": "stdout",
     "output_type": "stream",
     "text": [
      "Number 1: 10\n",
      "Number 2: 1\n",
      "---New Line---\n",
      "Result =  10.0\n"
     ]
    }
   ],
   "source": [
    "result = None\n",
    "x = int(input('Number 1: '))\n",
    "y = int(input('Number 2: '))\n",
    "try:\n",
    "    result = x/y\n",
    "except Exception as e:\n",
    "    print(type(e))\n",
    "\n",
    "print('---New Line---')\n",
    "print('Result = ', result)"
   ]
  },
  {
   "cell_type": "code",
   "execution_count": 40,
   "metadata": {},
   "outputs": [
    {
     "name": "stdout",
     "output_type": "stream",
     "text": [
      "Number 1: A\n"
     ]
    },
    {
     "ename": "ValueError",
     "evalue": "invalid literal for int() with base 10: 'A'",
     "output_type": "error",
     "traceback": [
      "\u001b[1;31m---------------------------------------------------------------------------\u001b[0m",
      "\u001b[1;31mValueError\u001b[0m                                Traceback (most recent call last)",
      "\u001b[1;32m<ipython-input-40-a548264e7f46>\u001b[0m in \u001b[0;36m<module>\u001b[1;34m\u001b[0m\n\u001b[0;32m      1\u001b[0m \u001b[0mresult\u001b[0m \u001b[1;33m=\u001b[0m \u001b[1;32mNone\u001b[0m\u001b[1;33m\u001b[0m\u001b[1;33m\u001b[0m\u001b[0m\n\u001b[1;32m----> 2\u001b[1;33m \u001b[0mx\u001b[0m \u001b[1;33m=\u001b[0m \u001b[0mint\u001b[0m\u001b[1;33m(\u001b[0m\u001b[0minput\u001b[0m\u001b[1;33m(\u001b[0m\u001b[1;34m'Number 1: '\u001b[0m\u001b[1;33m)\u001b[0m\u001b[1;33m)\u001b[0m\u001b[1;33m\u001b[0m\u001b[1;33m\u001b[0m\u001b[0m\n\u001b[0m\u001b[0;32m      3\u001b[0m \u001b[0my\u001b[0m \u001b[1;33m=\u001b[0m \u001b[0mint\u001b[0m\u001b[1;33m(\u001b[0m\u001b[0minput\u001b[0m\u001b[1;33m(\u001b[0m\u001b[1;34m'Number 2: '\u001b[0m\u001b[1;33m)\u001b[0m\u001b[1;33m)\u001b[0m\u001b[1;33m\u001b[0m\u001b[1;33m\u001b[0m\u001b[0m\n\u001b[0;32m      4\u001b[0m \u001b[1;32mtry\u001b[0m\u001b[1;33m:\u001b[0m\u001b[1;33m\u001b[0m\u001b[1;33m\u001b[0m\u001b[0m\n\u001b[0;32m      5\u001b[0m     \u001b[0mresult\u001b[0m \u001b[1;33m=\u001b[0m \u001b[0mx\u001b[0m\u001b[1;33m/\u001b[0m\u001b[0my\u001b[0m\u001b[1;33m\u001b[0m\u001b[1;33m\u001b[0m\u001b[0m\n",
      "\u001b[1;31mValueError\u001b[0m: invalid literal for int() with base 10: 'A'"
     ]
    }
   ],
   "source": [
    "result = None\n",
    "x = int(input('Number 1: '))\n",
    "y = int(input('Number 2: '))\n",
    "try:\n",
    "    result = x/y\n",
    "except Exception as e:\n",
    "    print(e)\n",
    "else:\n",
    "    print('Inside Else')\n",
    "finally:\n",
    "    print('Inside Finally')\n",
    "print('---New Line---')\n",
    "print('Result = ', result)"
   ]
  },
  {
   "cell_type": "code",
   "execution_count": 2,
   "metadata": {},
   "outputs": [
    {
     "name": "stdout",
     "output_type": "stream",
     "text": [
      "Name: Rahul\n",
      "Age: 33\n",
      "Marks: 90\n",
      "Hi,  Rahul\n",
      "Your age is: 33\n",
      "Your marks is: 90\n"
     ]
    }
   ],
   "source": [
    "n = input('Name: ')\n",
    "a = int(input('Age: '))\n",
    "m = int(input('Marks: '))\n",
    "class  Student:\n",
    "    def __init__(self, n, a, m):\n",
    "        self.name = n\n",
    "        self.age = a\n",
    "        self.marks = m\n",
    "    def display(self):\n",
    "        print('Hi, ', self.name)\n",
    "        print('Your age is:', self.age)\n",
    "        print('Your marks is:', self.marks)\n",
    "s1 = Student(n,a,m)\n",
    "s1.display()"
   ]
  },
  {
   "cell_type": "code",
   "execution_count": 10,
   "metadata": {},
   "outputs": [
    {
     "name": "stdout",
     "output_type": "stream",
     "text": [
      "Hi,  Rahul\n",
      "Your age is: 33\n",
      "Your marks is: {'Science': 95, 'Maths': 76, 'English': 87, 'Hindi': 78, 'SST': 100}\n"
     ]
    }
   ],
   "source": [
    "class  Student:\n",
    "    def __init__(self, n, a, **m):\n",
    "        self.name = n\n",
    "        self.age = a\n",
    "        self.marks = m\n",
    "    def display(self):\n",
    "        print('Hi, ', self.name)\n",
    "        print('Your age is:', self.age)\n",
    "        print('Your marks is:', self.marks)\n",
    "s1 = Student('Rahul', 33,Science = 95,Maths = 76,English = 87,Hindi = 78, SST = 100)\n",
    "s1.display()"
   ]
  },
  {
   "cell_type": "code",
   "execution_count": 15,
   "metadata": {},
   "outputs": [
    {
     "name": "stdout",
     "output_type": "stream",
     "text": [
      "120\n",
      "60.0\n"
     ]
    }
   ],
   "source": [
    "class Polygon:\n",
    "    __width = None\n",
    "    __height = None\n",
    "    \n",
    "    def set_values(self, width, height):\n",
    "        self.__width = width\n",
    "        self.__height = height\n",
    "    def get_width(self):\n",
    "        return self.__width\n",
    "    def get_heigh(self):\n",
    "        return self.__height\n",
    "        \n",
    "class Square(Polygon):\n",
    "    def area(self):\n",
    "        return self.get_width()*self.get_heigh()\n",
    "class Triangle(Polygon):\n",
    "    def area(self):\n",
    "        return self.get_width()*self.get_heigh()*1/2\n",
    "    \n",
    "s1 = Square()\n",
    "s1.set_values(8,15)\n",
    "print(s1.area())\n",
    "\n",
    "t1 = Triangle()\n",
    "t1.set_values(8,15)\n",
    "print(t1.area())\n",
    "    "
   ]
  },
  {
   "cell_type": "code",
   "execution_count": 16,
   "metadata": {},
   "outputs": [
    {
     "ename": "NameError",
     "evalue": "name 'Shape' is not defined",
     "output_type": "error",
     "traceback": [
      "\u001b[1;31m---------------------------------------------------------------------------\u001b[0m",
      "\u001b[1;31mNameError\u001b[0m                                 Traceback (most recent call last)",
      "\u001b[1;32m<ipython-input-16-82d934af7c05>\u001b[0m in \u001b[0;36m<module>\u001b[1;34m\u001b[0m\n\u001b[0;32m     11\u001b[0m         \u001b[1;32mreturn\u001b[0m \u001b[0mself\u001b[0m\u001b[1;33m.\u001b[0m\u001b[0m__height\u001b[0m\u001b[1;33m\u001b[0m\u001b[1;33m\u001b[0m\u001b[0m\n\u001b[0;32m     12\u001b[0m \u001b[1;33m\u001b[0m\u001b[0m\n\u001b[1;32m---> 13\u001b[1;33m \u001b[1;32mclass\u001b[0m \u001b[0mSquare\u001b[0m\u001b[1;33m(\u001b[0m\u001b[0mPolygon\u001b[0m\u001b[1;33m,\u001b[0m\u001b[0mShape\u001b[0m\u001b[1;33m)\u001b[0m\u001b[1;33m:\u001b[0m\u001b[1;33m\u001b[0m\u001b[1;33m\u001b[0m\u001b[0m\n\u001b[0m\u001b[0;32m     14\u001b[0m     \u001b[1;32mdef\u001b[0m \u001b[0marea\u001b[0m\u001b[1;33m(\u001b[0m\u001b[0mself\u001b[0m\u001b[1;33m)\u001b[0m\u001b[1;33m:\u001b[0m\u001b[1;33m\u001b[0m\u001b[1;33m\u001b[0m\u001b[0m\n\u001b[0;32m     15\u001b[0m         \u001b[1;32mreturn\u001b[0m \u001b[0mself\u001b[0m\u001b[1;33m.\u001b[0m\u001b[0mget_width\u001b[0m\u001b[1;33m(\u001b[0m\u001b[1;33m)\u001b[0m\u001b[1;33m*\u001b[0m\u001b[0mself\u001b[0m\u001b[1;33m.\u001b[0m\u001b[0mget_heigh\u001b[0m\u001b[1;33m(\u001b[0m\u001b[1;33m)\u001b[0m\u001b[1;33m\u001b[0m\u001b[1;33m\u001b[0m\u001b[0m\n",
      "\u001b[1;31mNameError\u001b[0m: name 'Shape' is not defined"
     ]
    }
   ],
   "source": [
    "class Polygon:\n",
    "    __width = None\n",
    "    __height = None\n",
    "    \n",
    "    def set_values(self, width, height):\n",
    "        self.__width = width\n",
    "        self.__height = height\n",
    "    def get_width(self):\n",
    "        return self.__width\n",
    "    def get_heigh(self):\n",
    "        return self.__height\n",
    "        \n",
    "class Square(Polygon,Shape):\n",
    "    def area(self):\n",
    "        return self.get_width()*self.get_heigh()\n",
    "class Triangle(Polygon,Shape):\n",
    "    def area(self):\n",
    "        return self.get_width()*self.get_heigh()*1/2\n",
    "class Shape:\n",
    "    __color = None\n",
    "    def set_color(self,color):\n",
    "        self.__color=color\n",
    "    def get_color(self):\n",
    "        return self.__color\n",
    "    \n",
    "s1 = Square()\n",
    "s1.set_values(8,15)\n",
    "s1.set_color('Blue')\n",
    "print(s1.area(), s1.get_color())\n",
    "\n",
    "t1 = Triangle()\n",
    "t1.set_values(8,15)\n",
    "print(t1.area())\n",
    "    "
   ]
  },
  {
   "cell_type": "code",
   "execution_count": 41,
   "metadata": {},
   "outputs": [
    {
     "name": "stdout",
     "output_type": "stream",
     "text": [
      "Tea is ok to Drink\n"
     ]
    }
   ],
   "source": [
    "class Tea:\n",
    "    def __init__(self, temperature):\n",
    "        self.__temperature = temperature\n",
    "    def drink_tea(self):\n",
    "        if self.__temperature>85:\n",
    "            print('Tea is too hot to drink')\n",
    "        elif self.__temperature<65:\n",
    "            print('Tea is too cold to drink')\n",
    "        else:\n",
    "            print('Tea is ok to Drink')\n",
    "cup = Tea(70)\n",
    "cup.drink_tea()"
   ]
  },
  {
   "cell_type": "code",
   "execution_count": 42,
   "metadata": {},
   "outputs": [
    {
     "ename": "Exception",
     "evalue": "Tea is too hot to drink",
     "output_type": "error",
     "traceback": [
      "\u001b[1;31m---------------------------------------------------------------------------\u001b[0m",
      "\u001b[1;31mException\u001b[0m                                 Traceback (most recent call last)",
      "\u001b[1;32m<ipython-input-42-00ba46a28500>\u001b[0m in \u001b[0;36m<module>\u001b[1;34m\u001b[0m\n\u001b[0;32m     11\u001b[0m             \u001b[0mprint\u001b[0m\u001b[1;33m(\u001b[0m\u001b[1;34m'Tea is ok to Drink'\u001b[0m\u001b[1;33m)\u001b[0m\u001b[1;33m\u001b[0m\u001b[1;33m\u001b[0m\u001b[0m\n\u001b[0;32m     12\u001b[0m \u001b[0mcup\u001b[0m \u001b[1;33m=\u001b[0m \u001b[0mTea\u001b[0m\u001b[1;33m(\u001b[0m\u001b[1;36m86\u001b[0m\u001b[1;33m)\u001b[0m\u001b[1;33m\u001b[0m\u001b[1;33m\u001b[0m\u001b[0m\n\u001b[1;32m---> 13\u001b[1;33m \u001b[0mcup\u001b[0m\u001b[1;33m.\u001b[0m\u001b[0mdrink_tea\u001b[0m\u001b[1;33m(\u001b[0m\u001b[1;33m)\u001b[0m\u001b[1;33m\u001b[0m\u001b[1;33m\u001b[0m\u001b[0m\n\u001b[0m",
      "\u001b[1;32m<ipython-input-42-00ba46a28500>\u001b[0m in \u001b[0;36mdrink_tea\u001b[1;34m(self)\u001b[0m\n\u001b[0;32m      4\u001b[0m     \u001b[1;32mdef\u001b[0m \u001b[0mdrink_tea\u001b[0m\u001b[1;33m(\u001b[0m\u001b[0mself\u001b[0m\u001b[1;33m)\u001b[0m\u001b[1;33m:\u001b[0m\u001b[1;33m\u001b[0m\u001b[1;33m\u001b[0m\u001b[0m\n\u001b[0;32m      5\u001b[0m         \u001b[1;32mif\u001b[0m \u001b[0mself\u001b[0m\u001b[1;33m.\u001b[0m\u001b[0m__temperature\u001b[0m\u001b[1;33m>\u001b[0m\u001b[1;36m85\u001b[0m\u001b[1;33m:\u001b[0m\u001b[1;33m\u001b[0m\u001b[1;33m\u001b[0m\u001b[0m\n\u001b[1;32m----> 6\u001b[1;33m             \u001b[1;32mraise\u001b[0m \u001b[0mException\u001b[0m \u001b[1;33m(\u001b[0m\u001b[1;34m'Tea is too hot to drink'\u001b[0m\u001b[1;33m)\u001b[0m\u001b[1;33m\u001b[0m\u001b[1;33m\u001b[0m\u001b[0m\n\u001b[0m\u001b[0;32m      7\u001b[0m             \u001b[1;31m#print('Tea is too hot to drink')\u001b[0m\u001b[1;33m\u001b[0m\u001b[1;33m\u001b[0m\u001b[1;33m\u001b[0m\u001b[0m\n\u001b[0;32m      8\u001b[0m         \u001b[1;32melif\u001b[0m \u001b[0mself\u001b[0m\u001b[1;33m.\u001b[0m\u001b[0m__temperature\u001b[0m\u001b[1;33m<\u001b[0m\u001b[1;36m65\u001b[0m\u001b[1;33m:\u001b[0m\u001b[1;33m\u001b[0m\u001b[1;33m\u001b[0m\u001b[0m\n",
      "\u001b[1;31mException\u001b[0m: Tea is too hot to drink"
     ]
    }
   ],
   "source": [
    "class Tea:\n",
    "    def __init__(self, temperature):\n",
    "        self.__temperature = temperature\n",
    "    def drink_tea(self):\n",
    "        if self.__temperature>85:\n",
    "            raise Exception ('Tea is too hot to drink')\n",
    "            #print('Tea is too hot to drink')\n",
    "        elif self.__temperature<65:\n",
    "            print('Tea is too cold to drink')\n",
    "        else:\n",
    "            print('Tea is ok to Drink')\n",
    "cup = Tea(86)\n",
    "cup.drink_tea()"
   ]
  },
  {
   "cell_type": "code",
   "execution_count": 43,
   "metadata": {},
   "outputs": [
    {
     "name": "stdout",
     "output_type": "stream",
     "text": [
      "Tea is too cold to drink\n"
     ]
    }
   ],
   "source": [
    "class TeaException(Exception):\n",
    "    def __init__(self, arg):\n",
    "        self.msg = arg\n",
    "class Tea:\n",
    "    def __init__(self, temperature):\n",
    "        self.__temperature = temperature\n",
    "    def drink_tea(self):\n",
    "        if self.__temperature > 85:\n",
    "            raise TeaException ('Tea is too hot to drink')\n",
    "        elif self.__temperature<65:\n",
    "            print('Tea is too cold to drink')\n",
    "        else:\n",
    "            print('Tea is ok to drink')\n",
    "cup = Tea(60)\n",
    "cup.drink_tea()\n"
   ]
  },
  {
   "cell_type": "code",
   "execution_count": 44,
   "metadata": {},
   "outputs": [
    {
     "ename": "TeaHotException",
     "evalue": "Tea is too hot to drink",
     "output_type": "error",
     "traceback": [
      "\u001b[1;31m---------------------------------------------------------------------------\u001b[0m",
      "\u001b[1;31mTeaHotException\u001b[0m                           Traceback (most recent call last)",
      "\u001b[1;32m<ipython-input-44-e6044536c4a5>\u001b[0m in \u001b[0;36m<module>\u001b[1;34m\u001b[0m\n\u001b[0;32m     17\u001b[0m             \u001b[0mprint\u001b[0m\u001b[1;33m(\u001b[0m\u001b[1;34m'Tea is ok to drink'\u001b[0m\u001b[1;33m)\u001b[0m\u001b[1;33m\u001b[0m\u001b[1;33m\u001b[0m\u001b[0m\n\u001b[0;32m     18\u001b[0m \u001b[0mcup\u001b[0m \u001b[1;33m=\u001b[0m \u001b[0mTea\u001b[0m\u001b[1;33m(\u001b[0m\u001b[1;36m86\u001b[0m\u001b[1;33m)\u001b[0m\u001b[1;33m\u001b[0m\u001b[1;33m\u001b[0m\u001b[0m\n\u001b[1;32m---> 19\u001b[1;33m \u001b[0mcup\u001b[0m\u001b[1;33m.\u001b[0m\u001b[0mdrink_tea\u001b[0m\u001b[1;33m(\u001b[0m\u001b[1;33m)\u001b[0m\u001b[1;33m\u001b[0m\u001b[1;33m\u001b[0m\u001b[0m\n\u001b[0m",
      "\u001b[1;32m<ipython-input-44-e6044536c4a5>\u001b[0m in \u001b[0;36mdrink_tea\u001b[1;34m(self)\u001b[0m\n\u001b[0;32m     10\u001b[0m     \u001b[1;32mdef\u001b[0m \u001b[0mdrink_tea\u001b[0m\u001b[1;33m(\u001b[0m\u001b[0mself\u001b[0m\u001b[1;33m)\u001b[0m\u001b[1;33m:\u001b[0m\u001b[1;33m\u001b[0m\u001b[1;33m\u001b[0m\u001b[0m\n\u001b[0;32m     11\u001b[0m         \u001b[1;32mif\u001b[0m \u001b[0mself\u001b[0m\u001b[1;33m.\u001b[0m\u001b[0m__temperature\u001b[0m \u001b[1;33m>\u001b[0m \u001b[1;36m85\u001b[0m\u001b[1;33m:\u001b[0m\u001b[1;33m\u001b[0m\u001b[1;33m\u001b[0m\u001b[0m\n\u001b[1;32m---> 12\u001b[1;33m             \u001b[1;32mraise\u001b[0m \u001b[0mTeaHotException\u001b[0m \u001b[1;33m(\u001b[0m\u001b[1;34m'Tea is too hot to drink'\u001b[0m\u001b[1;33m)\u001b[0m\u001b[1;33m\u001b[0m\u001b[1;33m\u001b[0m\u001b[0m\n\u001b[0m\u001b[0;32m     13\u001b[0m         \u001b[1;32melif\u001b[0m \u001b[0mself\u001b[0m\u001b[1;33m.\u001b[0m\u001b[0m__temperature\u001b[0m\u001b[1;33m<\u001b[0m\u001b[1;36m65\u001b[0m\u001b[1;33m:\u001b[0m\u001b[1;33m\u001b[0m\u001b[1;33m\u001b[0m\u001b[0m\n\u001b[0;32m     14\u001b[0m             \u001b[1;32mraise\u001b[0m \u001b[0mTeaColdException\u001b[0m \u001b[1;33m(\u001b[0m\u001b[1;34m'Tea is too cold to drink'\u001b[0m\u001b[1;33m)\u001b[0m\u001b[1;33m\u001b[0m\u001b[1;33m\u001b[0m\u001b[0m\n",
      "\u001b[1;31mTeaHotException\u001b[0m: Tea is too hot to drink"
     ]
    }
   ],
   "source": [
    "class TeaHotException(Exception):\n",
    "    def __init__(self, arg):\n",
    "        self.msg = arg\n",
    "class TeaColdException(Exception):\n",
    "    def __init__(self, arg):\n",
    "        self.msg = arg\n",
    "class Tea:\n",
    "    def __init__(self, temperature):\n",
    "        self.__temperature = temperature\n",
    "    def drink_tea(self):\n",
    "        if self.__temperature > 85:\n",
    "            raise TeaHotException ('Tea is too hot to drink')\n",
    "        elif self.__temperature<65:\n",
    "            raise TeaColdException ('Tea is too cold to drink')\n",
    "            #print('Tea is too cold to drink')\n",
    "        else:\n",
    "            print('Tea is ok to drink')\n",
    "cup = Tea(86)\n",
    "cup.drink_tea()\n"
   ]
  },
  {
   "cell_type": "code",
   "execution_count": 45,
   "metadata": {},
   "outputs": [
    {
     "ename": "TeaColdException",
     "evalue": "Tea is too cold to drink",
     "output_type": "error",
     "traceback": [
      "\u001b[1;31m---------------------------------------------------------------------------\u001b[0m",
      "\u001b[1;31mTeaColdException\u001b[0m                          Traceback (most recent call last)",
      "\u001b[1;32m<ipython-input-45-fd52a3aa2d79>\u001b[0m in \u001b[0;36m<module>\u001b[1;34m\u001b[0m\n\u001b[0;32m     15\u001b[0m             \u001b[0mprint\u001b[0m\u001b[1;33m(\u001b[0m\u001b[1;34m'Tea is ok to drink'\u001b[0m\u001b[1;33m)\u001b[0m\u001b[1;33m\u001b[0m\u001b[1;33m\u001b[0m\u001b[0m\n\u001b[0;32m     16\u001b[0m \u001b[0mcup\u001b[0m \u001b[1;33m=\u001b[0m \u001b[0mTea\u001b[0m\u001b[1;33m(\u001b[0m\u001b[1;36m60\u001b[0m\u001b[1;33m)\u001b[0m\u001b[1;33m\u001b[0m\u001b[1;33m\u001b[0m\u001b[0m\n\u001b[1;32m---> 17\u001b[1;33m \u001b[0mcup\u001b[0m\u001b[1;33m.\u001b[0m\u001b[0mdrink_tea\u001b[0m\u001b[1;33m(\u001b[0m\u001b[1;33m)\u001b[0m\u001b[1;33m\u001b[0m\u001b[1;33m\u001b[0m\u001b[0m\n\u001b[0m",
      "\u001b[1;32m<ipython-input-45-fd52a3aa2d79>\u001b[0m in \u001b[0;36mdrink_tea\u001b[1;34m(self)\u001b[0m\n\u001b[0;32m     10\u001b[0m             \u001b[1;32mraise\u001b[0m \u001b[0mTeaHotException\u001b[0m \u001b[1;33m(\u001b[0m\u001b[1;34m'Tea is too hot to drink'\u001b[0m\u001b[1;33m)\u001b[0m\u001b[1;33m\u001b[0m\u001b[1;33m\u001b[0m\u001b[0m\n\u001b[0;32m     11\u001b[0m         \u001b[1;32melif\u001b[0m \u001b[0mself\u001b[0m\u001b[1;33m.\u001b[0m\u001b[0m__temperature\u001b[0m\u001b[1;33m<\u001b[0m\u001b[1;36m65\u001b[0m\u001b[1;33m:\u001b[0m\u001b[1;33m\u001b[0m\u001b[1;33m\u001b[0m\u001b[0m\n\u001b[1;32m---> 12\u001b[1;33m             \u001b[1;32mraise\u001b[0m \u001b[0mTeaColdException\u001b[0m \u001b[1;33m(\u001b[0m\u001b[1;34m'Tea is too cold to drink'\u001b[0m\u001b[1;33m)\u001b[0m\u001b[1;33m\u001b[0m\u001b[1;33m\u001b[0m\u001b[0m\n\u001b[0m\u001b[0;32m     13\u001b[0m             \u001b[1;31m#print('Tea is too cold to drink')\u001b[0m\u001b[1;33m\u001b[0m\u001b[1;33m\u001b[0m\u001b[1;33m\u001b[0m\u001b[0m\n\u001b[0;32m     14\u001b[0m         \u001b[1;32melse\u001b[0m\u001b[1;33m:\u001b[0m\u001b[1;33m\u001b[0m\u001b[1;33m\u001b[0m\u001b[0m\n",
      "\u001b[1;31mTeaColdException\u001b[0m: Tea is too cold to drink"
     ]
    }
   ],
   "source": [
    "class Tea:\n",
    "    def TeaHotException(self, arg):\n",
    "        self.msg = arg\n",
    "    def TeaColdException(self, arg):\n",
    "        self.msg = arg       \n",
    "    def __init__(self, temperature):\n",
    "        self.__temperature = temperature\n",
    "    def drink_tea(self):\n",
    "        if self.__temperature > 85:\n",
    "            raise TeaHotException ('Tea is too hot to drink')\n",
    "        elif self.__temperature<65:\n",
    "            raise TeaColdException ('Tea is too cold to drink')\n",
    "            #print('Tea is too cold to drink')\n",
    "        else:\n",
    "            print('Tea is ok to drink')\n",
    "cup = Tea(60)\n",
    "cup.drink_tea()\n"
   ]
  },
  {
   "cell_type": "code",
   "execution_count": 28,
   "metadata": {},
   "outputs": [
    {
     "ename": "NameError",
     "evalue": "name 'Shape' is not defined",
     "output_type": "error",
     "traceback": [
      "\u001b[1;31m---------------------------------------------------------------------------\u001b[0m",
      "\u001b[1;31mNameError\u001b[0m                                 Traceback (most recent call last)",
      "\u001b[1;32m<ipython-input-28-2d395cf5d607>\u001b[0m in \u001b[0;36m<module>\u001b[1;34m\u001b[0m\n\u001b[0;32m     13\u001b[0m         \u001b[1;32mreturn\u001b[0m \u001b[0mself\u001b[0m\u001b[1;33m.\u001b[0m\u001b[0m__height\u001b[0m\u001b[1;33m\u001b[0m\u001b[1;33m\u001b[0m\u001b[0m\n\u001b[0;32m     14\u001b[0m \u001b[1;33m\u001b[0m\u001b[0m\n\u001b[1;32m---> 15\u001b[1;33m \u001b[1;32mclass\u001b[0m \u001b[0mSquare\u001b[0m\u001b[1;33m(\u001b[0m\u001b[0mPolygon\u001b[0m\u001b[1;33m,\u001b[0m\u001b[0mShape\u001b[0m\u001b[1;33m)\u001b[0m\u001b[1;33m:\u001b[0m\u001b[1;33m\u001b[0m\u001b[1;33m\u001b[0m\u001b[0m\n\u001b[0m\u001b[0;32m     16\u001b[0m     \u001b[1;32mdef\u001b[0m \u001b[0marea\u001b[0m\u001b[1;33m(\u001b[0m\u001b[0mself\u001b[0m\u001b[1;33m)\u001b[0m\u001b[1;33m:\u001b[0m\u001b[1;33m\u001b[0m\u001b[1;33m\u001b[0m\u001b[0m\n\u001b[0;32m     17\u001b[0m         \u001b[1;32mreturn\u001b[0m \u001b[0mself\u001b[0m\u001b[1;33m.\u001b[0m\u001b[0mget_height\u001b[0m\u001b[1;33m(\u001b[0m\u001b[1;33m)\u001b[0m \u001b[1;33m*\u001b[0m \u001b[0mself\u001b[0m\u001b[1;33m.\u001b[0m\u001b[0mget_width\u001b[0m\u001b[1;33m(\u001b[0m\u001b[1;33m)\u001b[0m\u001b[1;33m\u001b[0m\u001b[1;33m\u001b[0m\u001b[0m\n",
      "\u001b[1;31mNameError\u001b[0m: name 'Shape' is not defined"
     ]
    }
   ],
   "source": [
    "class Polygon:\n",
    "    __width = None\n",
    "    __height = None\n",
    "    \n",
    "    def set_value(self, width, height):\n",
    "        self.__width = width\n",
    "        self.__height = height\n",
    "        \n",
    "    def get_width(self):\n",
    "        return self.__width\n",
    "    \n",
    "    def get_height(self):\n",
    "        return self.__height\n",
    "\n",
    "class Square(Polygon,Shape):\n",
    "    def area(self):\n",
    "        return self.get_height() * self.get_width()\n",
    "    \n",
    "class Triangle(Polygon,Shape):\n",
    "    def area(self):\n",
    "        return self.get_height()*1/2*self.get_width()\n",
    "\n",
    "class Shape:\n",
    "    __color = None\n",
    "    def set_color(self, color):\n",
    "        self.__color = color\n",
    "        \n",
    "    def get_color(self):\n",
    "        return self.__color\n",
    "    \n",
    "\n",
    "s1 = Square()\n",
    "s1.set_value(10,10)\n",
    "s1.set_color('Blue')\n",
    "print(s1.area(), s1.get_color())\n",
    "\n",
    "t1 = Triangle()\n",
    "t1.set_value(10,10)\n",
    "t1.set_color('Red')\n",
    "print(t1.area(), t1.get_color())"
   ]
  },
  {
   "cell_type": "code",
   "execution_count": 20,
   "metadata": {},
   "outputs": [
    {
     "name": "stdout",
     "output_type": "stream",
     "text": [
      "1210000\n"
     ]
    }
   ],
   "source": [
    "class Salary:\n",
    "    def __init__(self, pay, reward):\n",
    "        self.pay = pay\n",
    "        self.reward = reward\n",
    "    def annual_salary(self):\n",
    "        return (self.pay*12) + self.reward\n",
    "class Employee:\n",
    "    def __init__(self, name, position, pay, reward):\n",
    "        self.name = name\n",
    "        self.position = position\n",
    "        self.final_salary = Salary(pay, reward)\n",
    "    def final_salary_m(self):\n",
    "        return self.final_salary.annual_salary()\n",
    "emp = Employee('Rahul','PyDev', 100000,10000)\n",
    "print(emp.final_salary_m())"
   ]
  },
  {
   "cell_type": "code",
   "execution_count": 21,
   "metadata": {},
   "outputs": [
    {
     "name": "stdout",
     "output_type": "stream",
     "text": [
      "1210000\n"
     ]
    }
   ],
   "source": [
    "class Salary:\n",
    "    def __init__(self, pay, reward):\n",
    "        self.pay = pay\n",
    "        self.reward = reward\n",
    "    def annual_salary(self):\n",
    "        return (self.pay*12) + self.reward\n",
    "class Employee:\n",
    "    def __init__(self, name, position, sal):\n",
    "        self.name = name\n",
    "        self.position = position\n",
    "        self.final_salary = sal\n",
    "    def final_salary_m(self):\n",
    "        return self.final_salary.annual_salary()\n",
    "sal = Salary(100000,10000)\n",
    "emp = Employee('Rahul','PyDev', sal)\n",
    "print(emp.final_salary_m())"
   ]
  },
  {
   "cell_type": "code",
   "execution_count": 22,
   "metadata": {},
   "outputs": [
    {
     "data": {
      "text/plain": [
       "'C:\\\\Users\\\\HP\\\\Desktop\\\\26082019_-_Class_20_-_OOPS_EH_and_NLP_an7phg'"
      ]
     },
     "execution_count": 22,
     "metadata": {},
     "output_type": "execute_result"
    }
   ],
   "source": [
    "import os\n",
    "os.getcwd()"
   ]
  },
  {
   "cell_type": "code",
   "execution_count": 23,
   "metadata": {},
   "outputs": [],
   "source": [
    "os.chdir('C:\\\\Users\\\\HP\\\\Desktop\\\\')"
   ]
  },
  {
   "cell_type": "code",
   "execution_count": 24,
   "metadata": {},
   "outputs": [
    {
     "data": {
      "text/plain": [
       "'C:\\\\Users\\\\HP\\\\Desktop'"
      ]
     },
     "execution_count": 24,
     "metadata": {},
     "output_type": "execute_result"
    }
   ],
   "source": [
    "os.getcwd()"
   ]
  },
  {
   "cell_type": "code",
   "execution_count": 25,
   "metadata": {},
   "outputs": [],
   "source": [
    "import mymath"
   ]
  },
  {
   "cell_type": "code",
   "execution_count": 26,
   "metadata": {},
   "outputs": [
    {
     "data": {
      "text/plain": [
       "20"
      ]
     },
     "execution_count": 26,
     "metadata": {},
     "output_type": "execute_result"
    }
   ],
   "source": [
    "mymath.add(10,10)"
   ]
  },
  {
   "cell_type": "code",
   "execution_count": 27,
   "metadata": {},
   "outputs": [
    {
     "data": {
      "text/plain": [
       "25"
      ]
     },
     "execution_count": 27,
     "metadata": {},
     "output_type": "execute_result"
    }
   ],
   "source": [
    "mymath.multiply(5,5)"
   ]
  },
  {
   "cell_type": "markdown",
   "metadata": {},
   "source": [
    "# Regular Expression"
   ]
  },
  {
   "cell_type": "code",
   "execution_count": 46,
   "metadata": {},
   "outputs": [],
   "source": [
    "import re"
   ]
  },
  {
   "cell_type": "code",
   "execution_count": 57,
   "metadata": {},
   "outputs": [],
   "source": [
    "nameage = '''Jaince is 22 and Thron is 33\n",
    "Gabrial is 44 and Joey is 21'''"
   ]
  },
  {
   "cell_type": "code",
   "execution_count": 48,
   "metadata": {},
   "outputs": [
    {
     "data": {
      "text/plain": [
       "'Jaince is 22 and Thron is 33\\nGabrial is 44 and Joey is 21'"
      ]
     },
     "execution_count": 48,
     "metadata": {},
     "output_type": "execute_result"
    }
   ],
   "source": [
    "nameage"
   ]
  },
  {
   "cell_type": "code",
   "execution_count": 58,
   "metadata": {},
   "outputs": [],
   "source": [
    "ages = re.findall(r'\\d{1,2}', nameage)"
   ]
  },
  {
   "cell_type": "code",
   "execution_count": 59,
   "metadata": {},
   "outputs": [
    {
     "data": {
      "text/plain": [
       "['22', '33', '44', '21']"
      ]
     },
     "execution_count": 59,
     "metadata": {},
     "output_type": "execute_result"
    }
   ],
   "source": [
    "ages"
   ]
  },
  {
   "cell_type": "code",
   "execution_count": 64,
   "metadata": {},
   "outputs": [],
   "source": [
    "names = re.findall(r'[A-Z][a-z]*',nameage)"
   ]
  },
  {
   "cell_type": "code",
   "execution_count": 65,
   "metadata": {},
   "outputs": [
    {
     "data": {
      "text/plain": [
       "['Jaince', 'Thron', 'Gabrial', 'Joey']"
      ]
     },
     "execution_count": 65,
     "metadata": {},
     "output_type": "execute_result"
    }
   ],
   "source": [
    "names"
   ]
  },
  {
   "cell_type": "code",
   "execution_count": 66,
   "metadata": {},
   "outputs": [
    {
     "name": "stdout",
     "output_type": "stream",
     "text": [
      "{'Jaince': '22', 'Thron': '33', 'Gabrial': '44', 'Joey': '21'}\n"
     ]
    }
   ],
   "source": [
    "agedict = {}\n",
    "x = 0\n",
    "for eachname in names:\n",
    "    agedict[eachname]=ages[x]\n",
    "    x=x+1\n",
    "print(agedict)"
   ]
  },
  {
   "cell_type": "code",
   "execution_count": 71,
   "metadata": {},
   "outputs": [],
   "source": [
    "a='we need to inform him with the latest information'"
   ]
  },
  {
   "cell_type": "code",
   "execution_count": 70,
   "metadata": {},
   "outputs": [],
   "source": [
    "if re.search('inform', a):\n",
    "    print('Inform is available')"
   ]
  },
  {
   "cell_type": "code",
   "execution_count": 72,
   "metadata": {},
   "outputs": [],
   "source": [
    "allinform = re.findall('inform', a)"
   ]
  },
  {
   "cell_type": "code",
   "execution_count": 74,
   "metadata": {},
   "outputs": [
    {
     "name": "stdout",
     "output_type": "stream",
     "text": [
      "inform\n",
      "inform\n"
     ]
    }
   ],
   "source": [
    "allinform\n",
    "for i in allinform:\n",
    "    print(i)"
   ]
  },
  {
   "cell_type": "code",
   "execution_count": 75,
   "metadata": {},
   "outputs": [
    {
     "name": "stdout",
     "output_type": "stream",
     "text": [
      "(11, 17)\n",
      "(38, 44)\n"
     ]
    }
   ],
   "source": [
    "for i in re.finditer('inform',a):\n",
    "    loc = i.span()\n",
    "    print(loc)"
   ]
  },
  {
   "cell_type": "code",
   "execution_count": 77,
   "metadata": {},
   "outputs": [
    {
     "name": "stdout",
     "output_type": "stream",
     "text": [
      "Sat\n",
      "hat\n",
      "mat\n",
      "pat\n",
      "rat\n"
     ]
    }
   ],
   "source": [
    "str = 'Sat, hat,mat, pat, rat'\n",
    "allstr = re.findall('[Shmpr]at',str)\n",
    "for i in allstr:\n",
    "    print(i)"
   ]
  },
  {
   "cell_type": "code",
   "execution_count": 78,
   "metadata": {},
   "outputs": [
    {
     "name": "stdout",
     "output_type": "stream",
     "text": [
      "Sat\n",
      "pat\n",
      "rat\n"
     ]
    }
   ],
   "source": [
    "str = 'Sat, hat,mat, pat, rat'\n",
    "allstr = re.findall('[^h-m]at',str)\n",
    "for i in allstr:\n",
    "    print(i)"
   ]
  },
  {
   "cell_type": "code",
   "execution_count": 80,
   "metadata": {},
   "outputs": [
    {
     "data": {
      "text/plain": [
       "'Sat, hat,mat, pat, rat'"
      ]
     },
     "execution_count": 80,
     "metadata": {},
     "output_type": "execute_result"
    }
   ],
   "source": [
    "str"
   ]
  },
  {
   "cell_type": "code",
   "execution_count": 81,
   "metadata": {},
   "outputs": [],
   "source": [
    "regex = re.compile('[r]at')"
   ]
  },
  {
   "cell_type": "code",
   "execution_count": 82,
   "metadata": {},
   "outputs": [
    {
     "name": "stdout",
     "output_type": "stream",
     "text": [
      "Sat, hat,mat, pat, food\n"
     ]
    }
   ],
   "source": [
    "str = regex.sub('food', str)\n",
    "print(str)"
   ]
  },
  {
   "cell_type": "code",
   "execution_count": 83,
   "metadata": {},
   "outputs": [],
   "source": [
    "num = '123  1234  12345  123456  1234567'"
   ]
  },
  {
   "cell_type": "code",
   "execution_count": 84,
   "metadata": {},
   "outputs": [
    {
     "name": "stdout",
     "output_type": "stream",
     "text": [
      "matches: 3\n"
     ]
    }
   ],
   "source": [
    "print('matches:', len(re.findall('\\d{5,7}',num)))"
   ]
  },
  {
   "cell_type": "code",
   "execution_count": 86,
   "metadata": {},
   "outputs": [
    {
     "name": "stdout",
     "output_type": "stream",
     "text": [
      "It is a valid number\n"
     ]
    }
   ],
   "source": [
    "phone = '410-554-1212'\n",
    "if re.search('\\d{3}-\\d{3}-\\d{4}',phone):\n",
    "    print('It is a valid number')\n",
    "else:\n",
    "    print('It is not a valid number')"
   ]
  },
  {
   "cell_type": "code",
   "execution_count": 87,
   "metadata": {},
   "outputs": [],
   "source": [
    "#\\w [a-zA-Z0-9_]\n",
    "#\\W [^a-zA-Z0-9_]"
   ]
  },
  {
   "cell_type": "code",
   "execution_count": 88,
   "metadata": {},
   "outputs": [],
   "source": [
    "email = 'rahul@cognitior.com   md@gmail.com   @seo.com   dc@.com'\n"
   ]
  },
  {
   "cell_type": "code",
   "execution_count": 90,
   "metadata": {},
   "outputs": [
    {
     "name": "stdout",
     "output_type": "stream",
     "text": [
      "Email Matches: 2\n"
     ]
    }
   ],
   "source": [
    "print('Email Matches:', len(re.findall('[\\w._%+-]{1,20}@[\\w.-]{2,20}.[A-Za-z]{2,3}', email)))"
   ]
  },
  {
   "cell_type": "code",
   "execution_count": 91,
   "metadata": {},
   "outputs": [],
   "source": [
    "import urllib.request\n",
    "url = 'http://www.summet.com/dmsi/html/codesamples/addresses.html'\n",
    "response = urllib.request.urlopen(url)\n",
    "html = response.read()\n",
    "htmlstr=html.decode()"
   ]
  },
  {
   "cell_type": "code",
   "execution_count": 94,
   "metadata": {},
   "outputs": [],
   "source": [
    "pdata = re.findall('\\(\\d{3}\\) \\d{3}-\\d{4}', htmlstr)"
   ]
  },
  {
   "cell_type": "code",
   "execution_count": 97,
   "metadata": {},
   "outputs": [],
   "source": [
    "pdata1 = re.findall('\\d{3}\\-\\d{3}-\\d{4}', htmlstr)"
   ]
  },
  {
   "cell_type": "code",
   "execution_count": 98,
   "metadata": {},
   "outputs": [
    {
     "data": {
      "text/plain": [
       "[]"
      ]
     },
     "execution_count": 98,
     "metadata": {},
     "output_type": "execute_result"
    }
   ],
   "source": [
    "pdata1"
   ]
  },
  {
   "cell_type": "code",
   "execution_count": 96,
   "metadata": {},
   "outputs": [
    {
     "name": "stdout",
     "output_type": "stream",
     "text": [
      "(257) 563-7401\n",
      "(372) 587-2335\n",
      "(786) 713-8616\n",
      "(793) 151-6230\n",
      "(492) 709-6392\n",
      "(654) 393-5734\n",
      "(404) 960-3807\n",
      "(314) 244-6306\n",
      "(947) 278-5929\n",
      "(684) 579-1879\n",
      "(389) 737-2852\n",
      "(660) 663-4518\n",
      "(608) 265-2215\n",
      "(959) 119-8364\n",
      "(468) 353-2641\n",
      "(248) 675-4007\n",
      "(939) 353-1107\n",
      "(570) 873-7090\n",
      "(302) 259-2375\n",
      "(717) 450-4729\n",
      "(453) 391-4650\n",
      "(559) 104-5475\n",
      "(387) 142-9434\n",
      "(516) 745-4496\n",
      "(326) 677-3419\n",
      "(746) 679-2470\n",
      "(455) 430-0989\n",
      "(490) 936-4694\n",
      "(985) 834-8285\n",
      "(662) 661-1446\n",
      "(802) 668-8240\n",
      "(477) 768-9247\n",
      "(791) 239-9057\n",
      "(832) 109-0213\n",
      "(837) 196-3274\n",
      "(268) 442-2428\n",
      "(850) 676-5117\n",
      "(861) 546-5032\n",
      "(176) 805-4108\n",
      "(715) 912-6931\n",
      "(993) 554-0563\n",
      "(357) 616-5411\n",
      "(121) 347-0086\n",
      "(304) 506-6314\n",
      "(425) 288-2332\n",
      "(145) 987-4962\n",
      "(187) 582-9707\n",
      "(750) 558-3965\n",
      "(492) 467-3131\n",
      "(774) 914-2510\n",
      "(888) 106-8550\n",
      "(539) 567-3573\n",
      "(693) 337-2849\n",
      "(545) 604-9386\n",
      "(221) 156-5026\n",
      "(414) 876-0865\n",
      "(932) 726-8645\n",
      "(726) 710-9826\n",
      "(622) 594-1662\n",
      "(948) 600-8503\n",
      "(605) 900-7508\n",
      "(716) 977-5775\n",
      "(368) 239-8275\n",
      "(725) 342-0650\n",
      "(711) 993-5187\n",
      "(882) 399-5084\n",
      "(287) 755-9948\n",
      "(659) 551-3389\n",
      "(275) 730-6868\n",
      "(725) 757-4047\n",
      "(314) 882-1496\n",
      "(639) 360-7590\n",
      "(168) 222-1592\n",
      "(896) 303-1164\n",
      "(203) 982-6130\n",
      "(906) 217-1470\n",
      "(614) 514-1269\n",
      "(763) 409-5446\n",
      "(836) 292-5324\n",
      "(926) 709-3295\n",
      "(963) 356-9268\n",
      "(736) 522-8584\n",
      "(410) 483-0352\n",
      "(252) 204-1434\n",
      "(874) 886-4174\n",
      "(581) 379-7573\n",
      "(983) 632-8597\n",
      "(295) 983-3476\n",
      "(873) 392-8802\n",
      "(360) 669-3923\n",
      "(840) 987-9449\n",
      "(422) 517-6053\n",
      "(126) 940-2753\n",
      "(427) 930-5255\n",
      "(689) 721-5145\n",
      "(676) 334-2174\n",
      "(437) 994-5270\n",
      "(564) 908-6970\n",
      "(577) 333-6244\n",
      "(655) 840-6139\n"
     ]
    }
   ],
   "source": [
    "for item in pdata:\n",
    "    print(item)"
   ]
  },
  {
   "cell_type": "markdown",
   "metadata": {},
   "source": [
    "# File Handling"
   ]
  },
  {
   "cell_type": "code",
   "execution_count": 99,
   "metadata": {},
   "outputs": [
    {
     "data": {
      "text/plain": [
       "'C:\\\\Users\\\\HP\\\\Desktop'"
      ]
     },
     "execution_count": 99,
     "metadata": {},
     "output_type": "execute_result"
    }
   ],
   "source": [
    "os.getcwd()"
   ]
  },
  {
   "cell_type": "code",
   "execution_count": 100,
   "metadata": {},
   "outputs": [
    {
     "name": "stdout",
     "output_type": "stream",
     "text": [
      "Data written successfully \n"
     ]
    }
   ],
   "source": [
    "file = open('Edureka.txt', 'w')\n",
    "file.write('Edureka, we help students to grow technically')\n",
    "file.write('\\nWe are here to provide the quality education')\n",
    "file.write('\\nOur headquarters is in Bengaluru, India')\n",
    "print('Data written successfully ')\n",
    "file.close()"
   ]
  },
  {
   "cell_type": "code",
   "execution_count": 101,
   "metadata": {},
   "outputs": [
    {
     "name": "stdout",
     "output_type": "stream",
     "text": [
      "Data writeen successfully\n"
     ]
    }
   ],
   "source": [
    "file = open('Edureka.txt','a')\n",
    "file.write('\\nWe are expading our education network across the globe')\n",
    "print('Data writeen successfully')\n",
    "file.close()"
   ]
  },
  {
   "cell_type": "code",
   "execution_count": 107,
   "metadata": {},
   "outputs": [
    {
     "name": "stdout",
     "output_type": "stream",
     "text": [
      "List written successfully\n"
     ]
    }
   ],
   "source": [
    "file = open('Edureka.txt','w')\n",
    "list = ['My name is Rahul Tiwari\\n', 'I am working to help young professionals to learn new tech']\n",
    "file.writelines(list)\n",
    "print('List written successfully')\n",
    "file.close()"
   ]
  },
  {
   "cell_type": "code",
   "execution_count": 103,
   "metadata": {},
   "outputs": [
    {
     "name": "stdout",
     "output_type": "stream",
     "text": [
      "My name is Rahul Tiwari\n",
      "I am working to help young professionals to learn new tech\n"
     ]
    }
   ],
   "source": [
    "file = open('Edureka.txt','r')\n",
    "call = file.read()\n",
    "print(call)\n",
    "file.close()"
   ]
  },
  {
   "cell_type": "code",
   "execution_count": 104,
   "metadata": {},
   "outputs": [
    {
     "name": "stdout",
     "output_type": "stream",
     "text": [
      "My name is Rahul\n"
     ]
    }
   ],
   "source": [
    "file = open('Edureka.txt','r')\n",
    "call = file.read(16)\n",
    "print(call)\n",
    "file.close()"
   ]
  },
  {
   "cell_type": "code",
   "execution_count": 105,
   "metadata": {},
   "outputs": [],
   "source": [
    "os.remove('Edureka.txt')"
   ]
  },
  {
   "cell_type": "code",
   "execution_count": 108,
   "metadata": {},
   "outputs": [
    {
     "name": "stdout",
     "output_type": "stream",
     "text": [
      "The file is deleted successfully\n"
     ]
    }
   ],
   "source": [
    "if os.path.exists('Edureka.txt'):\n",
    "    os.remove('Edureka.txt')\n",
    "    print('The file is deleted successfully')\n",
    "else:\n",
    "    print('The file does not exist')"
   ]
  },
  {
   "cell_type": "code",
   "execution_count": 112,
   "metadata": {},
   "outputs": [
    {
     "name": "stdout",
     "output_type": "stream",
     "text": [
      "Enter ur name:Sai\n",
      "Enter ur age:33\n",
      "Enter ur marks:95\n",
      "Data written successfully \n"
     ]
    }
   ],
   "source": [
    "file = open('Edureka.txt', 'a')\n",
    "file.write(input('Enter ur name:'))\n",
    "file.write(input('Enter ur age:'))\n",
    "file.write(input('Enter ur marks:'))\n",
    "print('Data written successfully ')\n",
    "file.close()"
   ]
  }
 ],
 "metadata": {
  "kernelspec": {
   "display_name": "Python 3",
   "language": "python",
   "name": "python3"
  },
  "language_info": {
   "codemirror_mode": {
    "name": "ipython",
    "version": 3
   },
   "file_extension": ".py",
   "mimetype": "text/x-python",
   "name": "python",
   "nbconvert_exporter": "python",
   "pygments_lexer": "ipython3",
   "version": "3.6.8"
  }
 },
 "nbformat": 4,
 "nbformat_minor": 2
}
