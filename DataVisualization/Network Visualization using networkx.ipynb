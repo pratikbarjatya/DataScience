{
 "cells": [
  {
   "cell_type": "markdown",
   "metadata": {},
   "source": [
    "# Network Visualization using networkx"
   ]
  },
  {
   "cell_type": "code",
   "execution_count": 1,
   "metadata": {},
   "outputs": [
    {
     "data": {
      "text/html": [
       "        <script type=\"text/javascript\">\n",
       "        window.PlotlyConfig = {MathJaxConfig: 'local'};\n",
       "        if (window.MathJax) {MathJax.Hub.Config({SVG: {font: \"STIX-Web\"}});}\n",
       "        if (typeof require !== 'undefined') {\n",
       "        require.undef(\"plotly\");\n",
       "        requirejs.config({\n",
       "            paths: {\n",
       "                'plotly': ['https://cdn.plot.ly/plotly-latest.min']\n",
       "            }\n",
       "        });\n",
       "        require(['plotly'], function(Plotly) {\n",
       "            window._Plotly = Plotly;\n",
       "        });\n",
       "        }\n",
       "        </script>\n",
       "        "
      ]
     },
     "metadata": {},
     "output_type": "display_data"
    }
   ],
   "source": [
    "import pandas as pd\n",
    "import networkx as nx\n",
    "import matplotlib.pyplot as plt\n",
    "import numpy as np\n",
    "import graphviz\n",
    "import pygraphviz as pgv\n",
    "from operator import itemgetter, attrgetter\n",
    "import matplotlib.pyplot as plt\n",
    "import itertools\n",
    "from plotly.offline import download_plotlyjs, init_notebook_mode,  iplot, plot\n",
    "\n",
    "import chart_studio.plotly as py\n",
    "from plotly.graph_objs import *\n",
    "\n",
    "init_notebook_mode(True)"
   ]
  },
  {
   "cell_type": "code",
   "execution_count": 2,
   "metadata": {},
   "outputs": [],
   "source": [
    "def draw_graph(graph):\n",
    "\n",
    "    # extract nodes from graph\n",
    "    nodes = set([n1 for n1, n2 in graph] + [n2 for n1, n2 in graph])\n",
    "\n",
    "    # create networkx graph\n",
    "    G=nx.Graph()\n",
    "\n",
    "    # add nodes\n",
    "    for node in nodes:\n",
    "        G.add_node(node)\n",
    "\n",
    "    # add edges\n",
    "    for edge in graph:\n",
    "        G.add_edge(edge[0], edge[1])\n",
    "\n",
    "    # draw graph\n",
    "    pos = nx.spring_layout(G)\n",
    "    nx.draw(G, pos, with_labels=True)\n",
    "\n",
    "    # show graph\n",
    "    plt.show()"
   ]
  },
  {
   "cell_type": "markdown",
   "metadata": {},
   "source": [
    "### Creating graph and plotting with matplotlib"
   ]
  },
  {
   "cell_type": "code",
   "execution_count": 3,
   "metadata": {},
   "outputs": [
    {
     "name": "stderr",
     "output_type": "stream",
     "text": [
      "/Users/pratikajitb/anaconda3/lib/python3.7/site-packages/networkx/drawing/nx_pylab.py:579: MatplotlibDeprecationWarning:\n",
      "\n",
      "\n",
      "The iterable function was deprecated in Matplotlib 3.1 and will be removed in 3.3. Use np.iterable instead.\n",
      "\n"
     ]
    },
    {
     "data": {
      "image/png": "[encoded data removed]",
      "text/plain": [
       "<Figure size 432x288 with 1 Axes>"
      ]
     },
     "metadata": {},
     "output_type": "display_data"
    },
    {
     "data": {
      "text/plain": [
       "<Figure size 1440x1440 with 0 Axes>"
      ]
     },
     "metadata": {},
     "output_type": "display_data"
    }
   ],
   "source": [
    "graph = [(4, 1),(1, 2),(2, 3), (3, 4),(4, 5), (5, 4), (4,2), (4, 2),(1, 6),(6, 3), (6, 4),(5, 5), (5, 1), (4,1)]\n",
    "draw_graph(graph)\n",
    "plt.figure(figsize=(20, 20))\n",
    "# show Graph\n",
    "plt.show()"
   ]
  },
  {
   "cell_type": "markdown",
   "metadata": {},
   "source": [
    "## Answer 2 - Harry Potter Friend-or-Enemy Graph"
   ]
  },
  {
   "cell_type": "code",
   "execution_count": 4,
   "metadata": {},
   "outputs": [],
   "source": [
    "# Generate data for edgelist and nodelist\n",
    "char1 = ['harry', 'hermoine', 'hagrid', 'dumbledore', 'draco', 'dobby', 'ron', 'voldermort', 'ron', 'ginny', 'bellatrix', 'luna', 'snape', 'umbridge', 'sirius', 'neville', 'snape', 'luna', 'hermoine', 'hermoine', 'hermoine', 'hermoine']\n",
    "char2 = ['hermoine', 'hagrid', 'dobby', 'voldermort', 'ginny', 'draco','voldermort', 'bellatrix', 'hermoine', 'harry', 'voldermort', 'sirius', 'neville', 'harry', 'hagrid', 'bellatrix', 'voldermort', 'umbridge', 'ron', 'umbridge', 'ginny', 'luna']\n",
    "\n",
    "# 1 represents a good character, 0 represents an evil character\n",
    "goodness = [1,1,1,1,0,1,1,0,1,1,0,1,1,0,1,1,1,1,1,1,1,1]\n",
    "\n",
    "# 1 represents frienship, -1 represents enmity\n",
    "f_or_e = [1,1,1,-1,-1,-1,-1,1,1,1,1,1,1,-1,-1,-1,-1,-1,1,-1,1,1]\n",
    "\n",
    "friend_enemy = pd.concat([pd.DataFrame(char1), pd.DataFrame(char2), pd.DataFrame(f_or_e)], axis=1)\n",
    "friend_enemy.columns = ['Character1', 'Character2', 'friendORenemy']\n",
    "\n",
    "nodelist = pd.concat([pd.DataFrame(char1), pd.DataFrame(goodness)], axis=1)\n",
    "nodelist.columns = ['Character', 'Goodness']\n",
    "nodelist.drop_duplicates(inplace = True)"
   ]
  },
  {
   "cell_type": "code",
   "execution_count": 5,
   "metadata": {},
   "outputs": [],
   "source": [
    "# Save the csv files\n",
    "nodelist.to_csv('nodelist.csv', index = None)\n",
    "friend_enemy.to_csv('friend_enemy.csv', index = None)"
   ]
  },
  {
   "cell_type": "code",
   "execution_count": 6,
   "metadata": {},
   "outputs": [
    {
     "name": "stdout",
     "output_type": "stream",
     "text": [
      "    Character  Goodness\n",
      "0       harry         1\n",
      "1    hermoine         1\n",
      "2      hagrid         1\n",
      "3  dumbledore         1\n",
      "4       draco         0\n",
      "   Character1  Character2  friendORenemy\n",
      "0       harry    hermoine              1\n",
      "1    hermoine      hagrid              1\n",
      "2      hagrid       dobby              1\n",
      "3  dumbledore  voldermort             -1\n",
      "4       draco       ginny             -1\n"
     ]
    }
   ],
   "source": [
    "# Read the generated data from the csv's\n",
    "nodelist = pd.read_csv('nodelist.csv')\n",
    "print(nodelist.head())\n",
    "friend_enemy = pd.read_csv('friend_enemy.csv')\n",
    "print(friend_enemy.head())"
   ]
  },
  {
   "cell_type": "code",
   "execution_count": 7,
   "metadata": {},
   "outputs": [
    {
     "data": {
      "text/plain": [
       "[('harry', 'hermoine'),\n",
       " ('hermoine', 'hagrid'),\n",
       " ('hagrid', 'dobby'),\n",
       " ('dumbledore', 'voldermort'),\n",
       " ('draco', 'ginny'),\n",
       " ('dobby', 'draco'),\n",
       " ('ron', 'voldermort'),\n",
       " ('voldermort', 'bellatrix'),\n",
       " ('ron', 'hermoine'),\n",
       " ('ginny', 'harry'),\n",
       " ('bellatrix', 'voldermort'),\n",
       " ('luna', 'sirius'),\n",
       " ('snape', 'neville'),\n",
       " ('umbridge', 'harry'),\n",
       " ('sirius', 'hagrid'),\n",
       " ('neville', 'bellatrix'),\n",
       " ('snape', 'voldermort'),\n",
       " ('luna', 'umbridge'),\n",
       " ('hermoine', 'ron'),\n",
       " ('hermoine', 'umbridge'),\n",
       " ('hermoine', 'ginny'),\n",
       " ('hermoine', 'luna')]"
      ]
     },
     "execution_count": 7,
     "metadata": {},
     "output_type": "execute_result"
    }
   ],
   "source": [
    "# Create an edge list\n",
    "hp_graph = []\n",
    "for i,j in zip(friend_enemy.Character1, friend_enemy.Character2):\n",
    "    hp_graph.append((i,j))\n",
    "hp_graph"
   ]
  },
  {
   "cell_type": "markdown",
   "metadata": {},
   "source": [
    "### Using  pygraphviz  for plotting:"
   ]
  },
  {
   "cell_type": "code",
   "execution_count": 8,
   "metadata": {
    "scrolled": true
   },
   "outputs": [
    {
     "name": "stdout",
     "output_type": "stream",
     "text": [
      "strict digraph \"\" {\n",
      "\tharry -> hermoine;\n",
      "\thermoine -> hagrid;\n",
      "\thermoine -> ginny;\n",
      "\thermoine -> ron;\n",
      "\thermoine -> luna;\n",
      "\thermoine -> umbridge;\n",
      "\thagrid -> dobby;\n",
      "\tginny -> harry;\n",
      "\tron -> hermoine;\n",
      "\tron -> voldermort;\n",
      "\tluna -> umbridge;\n",
      "\tluna -> sirius;\n",
      "\tumbridge -> harry;\n",
      "\tdobby -> draco;\n",
      "\tdraco -> ginny;\n",
      "\tdumbledore -> voldermort;\n",
      "\tvoldermort -> bellatrix;\n",
      "\tbellatrix -> voldermort;\n",
      "\tsirius -> hagrid;\n",
      "\tsnape -> voldermort;\n",
      "\tsnape -> neville;\n",
      "\tneville -> bellatrix;\n",
      "}\n",
      "\n"
     ]
    }
   ],
   "source": [
    "G = nx.DiGraph()\n",
    "G.add_edges_from(hp_graph)\n",
    "A = nx.drawing.nx_agraph.to_agraph(G)\n",
    "print(A)\n",
    "A.layout('dot')\n",
    "A.draw('abcd.png')"
   ]
  },
  {
   "cell_type": "code",
   "execution_count": 9,
   "metadata": {},
   "outputs": [
    {
     "data": {
      "text/html": [
       "<div>\n",
       "<style scoped>\n",
       "    .dataframe tbody tr th:only-of-type {\n",
       "        vertical-align: middle;\n",
       "    }\n",
       "\n",
       "    .dataframe tbody tr th {\n",
       "        vertical-align: top;\n",
       "    }\n",
       "\n",
       "    .dataframe thead th {\n",
       "        text-align: right;\n",
       "    }\n",
       "</style>\n",
       "<table border=\"1\" class=\"dataframe\">\n",
       "  <thead>\n",
       "    <tr style=\"text-align: right;\">\n",
       "      <th></th>\n",
       "      <th>Character1</th>\n",
       "      <th>Character2</th>\n",
       "      <th>friendORenemy</th>\n",
       "    </tr>\n",
       "  </thead>\n",
       "  <tbody>\n",
       "    <tr>\n",
       "      <th>0</th>\n",
       "      <td>harry</td>\n",
       "      <td>hermoine</td>\n",
       "      <td>1</td>\n",
       "    </tr>\n",
       "    <tr>\n",
       "      <th>1</th>\n",
       "      <td>hermoine</td>\n",
       "      <td>hagrid</td>\n",
       "      <td>1</td>\n",
       "    </tr>\n",
       "    <tr>\n",
       "      <th>2</th>\n",
       "      <td>hagrid</td>\n",
       "      <td>dobby</td>\n",
       "      <td>1</td>\n",
       "    </tr>\n",
       "    <tr>\n",
       "      <th>3</th>\n",
       "      <td>dumbledore</td>\n",
       "      <td>voldermort</td>\n",
       "      <td>-1</td>\n",
       "    </tr>\n",
       "    <tr>\n",
       "      <th>4</th>\n",
       "      <td>draco</td>\n",
       "      <td>ginny</td>\n",
       "      <td>-1</td>\n",
       "    </tr>\n",
       "  </tbody>\n",
       "</table>\n",
       "</div>"
      ],
      "text/plain": [
       "   Character1  Character2  friendORenemy\n",
       "0       harry    hermoine              1\n",
       "1    hermoine      hagrid              1\n",
       "2      hagrid       dobby              1\n",
       "3  dumbledore  voldermort             -1\n",
       "4       draco       ginny             -1"
      ]
     },
     "execution_count": 9,
     "metadata": {},
     "output_type": "execute_result"
    }
   ],
   "source": [
    "friend_enemy[0:5]"
   ]
  },
  {
   "cell_type": "code",
   "execution_count": 10,
   "metadata": {},
   "outputs": [
    {
     "data": {
      "text/plain": [
       "[('harry', 1),\n",
       " ('hermoine', 1),\n",
       " ('hagrid', 1),\n",
       " ('dumbledore', 1),\n",
       " ('draco', 0),\n",
       " ('dobby', 1),\n",
       " ('ron', 1),\n",
       " ('voldermort', 0),\n",
       " ('ron', 1),\n",
       " ('ginny', 1),\n",
       " ('bellatrix', 0),\n",
       " ('luna', 1),\n",
       " ('snape', 1),\n",
       " ('umbridge', 0),\n",
       " ('sirius', 1),\n",
       " ('neville', 1),\n",
       " ('snape', 1),\n",
       " ('luna', 1),\n",
       " ('hermoine', 1),\n",
       " ('hermoine', 1),\n",
       " ('hermoine', 1),\n",
       " ('hermoine', 1)]"
      ]
     },
     "execution_count": 10,
     "metadata": {},
     "output_type": "execute_result"
    }
   ],
   "source": [
    "# Create a nodelist\n",
    "nodelist1 = []\n",
    "for i,j in zip(friend_enemy.Character1, goodness):\n",
    "    nodelist1.append((i,j))\n",
    "nodelist1"
   ]
  },
  {
   "cell_type": "code",
   "execution_count": 11,
   "metadata": {},
   "outputs": [],
   "source": [
    "# Create a graph\n",
    "g = nx.Graph()\n",
    "g.add_edges_from(hp_graph)"
   ]
  },
  {
   "cell_type": "code",
   "execution_count": 12,
   "metadata": {},
   "outputs": [
    {
     "data": {
      "text/plain": [
       "{'harry': 1,\n",
       " 'hermoine': 1,\n",
       " 'hagrid': 1,\n",
       " 'dumbledore': 1,\n",
       " 'draco': 0,\n",
       " 'dobby': 1,\n",
       " 'ron': 1,\n",
       " 'voldermort': 0,\n",
       " 'ginny': 1,\n",
       " 'bellatrix': 0,\n",
       " 'luna': 1,\n",
       " 'snape': 1,\n",
       " 'umbridge': 0,\n",
       " 'sirius': 1,\n",
       " 'neville': 1}"
      ]
     },
     "execution_count": 12,
     "metadata": {},
     "output_type": "execute_result"
    }
   ],
   "source": [
    "dict(nodelist1)"
   ]
  },
  {
   "cell_type": "markdown",
   "metadata": {},
   "source": [
    "### Plotting Kamada Kawai and Spring Layout using networkx and matpltolib"
   ]
  },
  {
   "cell_type": "code",
   "execution_count": 13,
   "metadata": {
    "scrolled": true
   },
   "outputs": [
    {
     "data": {
      "image/png": "[encoded data removed]",
      "text/plain": [
       "<Figure size 432x288 with 1 Axes>"
      ]
     },
     "metadata": {},
     "output_type": "display_data"
    }
   ],
   "source": [
    "#  Kamada Kawai Layout\n",
    "values = [dict(nodelist1).get(node, 0.75) for node in g.nodes()]\n",
    "# values2 = [(f_or_e).get(node, 0.25) for node in g.nodes()]\n",
    "nx.draw(g, cmap=plt.get_cmap('Wistia'), node_color=values, with_labels = True)\n",
    "plt.title('Kamada Kawai Layout')\n",
    "plt.show()"
   ]
  },
  {
   "cell_type": "code",
   "execution_count": 14,
   "metadata": {
    "scrolled": true
   },
   "outputs": [
    {
     "data": {
      "image/png": "[encoded data removed]",
      "text/plain": [
       "<Figure size 432x288 with 1 Axes>"
      ]
     },
     "metadata": {},
     "output_type": "display_data"
    },
    {
     "data": {
      "text/plain": [
       "<Figure size 1440x1440 with 0 Axes>"
      ]
     },
     "metadata": {},
     "output_type": "display_data"
    }
   ],
   "source": [
    "# Spring Layout\n",
    "pos = nx.spring_layout(g)\n",
    "nx.draw_circular(g, with_labels = True, node_color = values)\n",
    "plt.title('Spring Layout')\n",
    "plt.figure(figsize=(20, 20))\n",
    "# show Graph\n",
    "plt.show()"
   ]
  },
  {
   "cell_type": "markdown",
   "metadata": {},
   "source": [
    "### Plotting Fruchterman Reingold layout in Plotly"
   ]
  },
  {
   "cell_type": "code",
   "execution_count": 23,
   "metadata": {},
   "outputs": [
    {
     "data": {
      "text/html": [
       "        <script type=\"text/javascript\">\n",
       "        window.PlotlyConfig = {MathJaxConfig: 'local'};\n",
       "        if (window.MathJax) {MathJax.Hub.Config({SVG: {font: \"STIX-Web\"}});}\n",
       "        if (typeof require !== 'undefined') {\n",
       "        require.undef(\"plotly\");\n",
       "        requirejs.config({\n",
       "            paths: {\n",
       "                'plotly': ['https://cdn.plot.ly/plotly-latest.min']\n",
       "            }\n",
       "        });\n",
       "        require(['plotly'], function(Plotly) {\n",
       "            window._Plotly = Plotly;\n",
       "        });\n",
       "        }\n",
       "        </script>\n",
       "        "
      ]
     },
     "metadata": {},
     "output_type": "display_data"
    },
    {
     "ename": "ValueError",
     "evalue": "\n    Invalid value of type 'plotly.graph_objs.scatter.Line' received for the 'line' property of scatter.marker\n        Received value: scatter.Line({\n    'color': 'rgb(50,50,50)', 'width': 1\n})\n\n    The 'line' property is an instance of Line\n    that may be specified as:\n      - An instance of plotly.graph_objs.scatter.marker.Line\n      - A dict of string/value properties that will be passed\n        to the Line constructor\n\n        Supported dict properties:\n            \n            autocolorscale\n                Determines whether the colorscale is a default\n                palette (`autocolorscale: true`) or the palette\n                determined by `marker.line.colorscale`. Has an\n                effect only if in `marker.line.color`is set to\n                a numerical array. In case `colorscale` is\n                unspecified or `autocolorscale` is true, the\n                default  palette will be chosen according to\n                whether numbers in the `color` array are all\n                positive, all negative or mixed.\n            cauto\n                Determines whether or not the color domain is\n                computed with respect to the input data (here\n                in `marker.line.color`) or the bounds set in\n                `marker.line.cmin` and `marker.line.cmax`  Has\n                an effect only if in `marker.line.color`is set\n                to a numerical array. Defaults to `false` when\n                `marker.line.cmin` and `marker.line.cmax` are\n                set by the user.\n            cmax\n                Sets the upper bound of the color domain. Has\n                an effect only if in `marker.line.color`is set\n                to a numerical array. Value should have the\n                same units as in `marker.line.color` and if\n                set, `marker.line.cmin` must be set as well.\n            cmid\n                Sets the mid-point of the color domain by\n                scaling `marker.line.cmin` and/or\n                `marker.line.cmax` to be equidistant to this\n                point. Has an effect only if in\n                `marker.line.color`is set to a numerical array.\n                Value should have the same units as in\n                `marker.line.color`. Has no effect when\n                `marker.line.cauto` is `false`.\n            cmin\n                Sets the lower bound of the color domain. Has\n                an effect only if in `marker.line.color`is set\n                to a numerical array. Value should have the\n                same units as in `marker.line.color` and if\n                set, `marker.line.cmax` must be set as well.\n            color\n                Sets themarker.linecolor. It accepts either a\n                specific color or an array of numbers that are\n                mapped to the colorscale relative to the max\n                and min values of the array or relative to\n                `marker.line.cmin` and `marker.line.cmax` if\n                set.\n            coloraxis\n                Sets a reference to a shared color axis.\n                References to these shared color axes are\n                \"coloraxis\", \"coloraxis2\", \"coloraxis3\", etc.\n                Settings for these shared color axes are set in\n                the layout, under `layout.coloraxis`,\n                `layout.coloraxis2`, etc. Note that multiple\n                color scales can be linked to the same color\n                axis.\n            colorscale\n                Sets the colorscale. Has an effect only if in\n                `marker.line.color`is set to a numerical array.\n                The colorscale must be an array containing\n                arrays mapping a normalized value to an rgb,\n                rgba, hex, hsl, hsv, or named color string. At\n                minimum, a mapping for the lowest (0) and\n                highest (1) values are required. For example,\n                `[[0, 'rgb(0,0,255)'], [1, 'rgb(255,0,0)']]`.\n                To control the bounds of the colorscale in\n                color space, use`marker.line.cmin` and\n                `marker.line.cmax`. Alternatively, `colorscale`\n                may be a palette name string of the following\n                list: Greys,YlGnBu,Greens,YlOrRd,Bluered,RdBu,R\n                eds,Blues,Picnic,Rainbow,Portland,Jet,Hot,Black\n                body,Earth,Electric,Viridis,Cividis.\n            colorsrc\n                Sets the source reference on plot.ly for  color\n                .\n            reversescale\n                Reverses the color mapping if true. Has an\n                effect only if in `marker.line.color`is set to\n                a numerical array. If true, `marker.line.cmin`\n                will correspond to the last color in the array\n                and `marker.line.cmax` will correspond to the\n                first color.\n            width\n                Sets the width (in px) of the lines bounding\n                the marker points.\n            widthsrc\n                Sets the source reference on plot.ly for  width\n                .\n",
     "output_type": "error",
     "traceback": [
      "\u001b[0;31m---------------------------------------------------------------------------\u001b[0m",
      "\u001b[0;31mValueError\u001b[0m                                Traceback (most recent call last)",
      "\u001b[0;32m<ipython-input-23-aed283f429d7>\u001b[0m in \u001b[0;36m<module>\u001b[0;34m\u001b[0m\n\u001b[1;32m     33\u001b[0m         \u001b[0msize\u001b[0m\u001b[0;34m=\u001b[0m\u001b[0;36m10\u001b[0m\u001b[0;34m,\u001b[0m\u001b[0;34m\u001b[0m\u001b[0;34m\u001b[0m\u001b[0m\n\u001b[1;32m     34\u001b[0m         \u001b[0mcolor\u001b[0m\u001b[0;34m=\u001b[0m\u001b[0;34m'#6959CD'\u001b[0m\u001b[0;34m,\u001b[0m\u001b[0;34m\u001b[0m\u001b[0;34m\u001b[0m\u001b[0m\n\u001b[0;32m---> 35\u001b[0;31m         line=scatter.Line(color='rgb(50,50,50)', width=1)),\n\u001b[0m\u001b[1;32m     36\u001b[0m     \u001b[0mtext\u001b[0m\u001b[0;34m=\u001b[0m\u001b[0mlabels\u001b[0m\u001b[0;34m,\u001b[0m\u001b[0;34m\u001b[0m\u001b[0;34m\u001b[0m\u001b[0m\n\u001b[1;32m     37\u001b[0m     hoverinfo='text')\n",
      "\u001b[0;32m~/anaconda3/lib/python3.7/site-packages/plotly/graph_objs/scatter/__init__.py\u001b[0m in \u001b[0;36m__init__\u001b[0;34m(self, arg, autocolorscale, cauto, cmax, cmid, cmin, color, coloraxis, colorbar, colorscale, colorsrc, gradient, line, maxdisplayed, opacity, opacitysrc, reversescale, showscale, size, sizemin, sizemode, sizeref, sizesrc, symbol, symbolsrc, **kwargs)\u001b[0m\n\u001b[1;32m   2115\u001b[0m         \u001b[0mself\u001b[0m\u001b[0;34m[\u001b[0m\u001b[0;34m\"gradient\"\u001b[0m\u001b[0;34m]\u001b[0m \u001b[0;34m=\u001b[0m \u001b[0mgradient\u001b[0m \u001b[0;32mif\u001b[0m \u001b[0mgradient\u001b[0m \u001b[0;32mis\u001b[0m \u001b[0;32mnot\u001b[0m \u001b[0;32mNone\u001b[0m \u001b[0;32melse\u001b[0m \u001b[0m_v\u001b[0m\u001b[0;34m\u001b[0m\u001b[0;34m\u001b[0m\u001b[0m\n\u001b[1;32m   2116\u001b[0m         \u001b[0m_v\u001b[0m \u001b[0;34m=\u001b[0m \u001b[0marg\u001b[0m\u001b[0;34m.\u001b[0m\u001b[0mpop\u001b[0m\u001b[0;34m(\u001b[0m\u001b[0;34m\"line\"\u001b[0m\u001b[0;34m,\u001b[0m \u001b[0;32mNone\u001b[0m\u001b[0;34m)\u001b[0m\u001b[0;34m\u001b[0m\u001b[0;34m\u001b[0m\u001b[0m\n\u001b[0;32m-> 2117\u001b[0;31m         \u001b[0mself\u001b[0m\u001b[0;34m[\u001b[0m\u001b[0;34m\"line\"\u001b[0m\u001b[0;34m]\u001b[0m \u001b[0;34m=\u001b[0m \u001b[0mline\u001b[0m \u001b[0;32mif\u001b[0m \u001b[0mline\u001b[0m \u001b[0;32mis\u001b[0m \u001b[0;32mnot\u001b[0m \u001b[0;32mNone\u001b[0m \u001b[0;32melse\u001b[0m \u001b[0m_v\u001b[0m\u001b[0;34m\u001b[0m\u001b[0;34m\u001b[0m\u001b[0m\n\u001b[0m\u001b[1;32m   2118\u001b[0m         \u001b[0m_v\u001b[0m \u001b[0;34m=\u001b[0m \u001b[0marg\u001b[0m\u001b[0;34m.\u001b[0m\u001b[0mpop\u001b[0m\u001b[0;34m(\u001b[0m\u001b[0;34m\"maxdisplayed\"\u001b[0m\u001b[0;34m,\u001b[0m \u001b[0;32mNone\u001b[0m\u001b[0;34m)\u001b[0m\u001b[0;34m\u001b[0m\u001b[0;34m\u001b[0m\u001b[0m\n\u001b[1;32m   2119\u001b[0m         \u001b[0mself\u001b[0m\u001b[0;34m[\u001b[0m\u001b[0;34m\"maxdisplayed\"\u001b[0m\u001b[0;34m]\u001b[0m \u001b[0;34m=\u001b[0m \u001b[0mmaxdisplayed\u001b[0m \u001b[0;32mif\u001b[0m \u001b[0mmaxdisplayed\u001b[0m \u001b[0;32mis\u001b[0m \u001b[0;32mnot\u001b[0m \u001b[0;32mNone\u001b[0m \u001b[0;32melse\u001b[0m \u001b[0m_v\u001b[0m\u001b[0;34m\u001b[0m\u001b[0;34m\u001b[0m\u001b[0m\n",
      "\u001b[0;32m~/anaconda3/lib/python3.7/site-packages/plotly/basedatatypes.py\u001b[0m in \u001b[0;36m__setitem__\u001b[0;34m(self, prop, value)\u001b[0m\n\u001b[1;32m   3343\u001b[0m             \u001b[0;31m# ### Handle compound property ###\u001b[0m\u001b[0;34m\u001b[0m\u001b[0;34m\u001b[0m\u001b[0;34m\u001b[0m\u001b[0m\n\u001b[1;32m   3344\u001b[0m             \u001b[0;32mif\u001b[0m \u001b[0misinstance\u001b[0m\u001b[0;34m(\u001b[0m\u001b[0mvalidator\u001b[0m\u001b[0;34m,\u001b[0m \u001b[0mCompoundValidator\u001b[0m\u001b[0;34m)\u001b[0m\u001b[0;34m:\u001b[0m\u001b[0;34m\u001b[0m\u001b[0;34m\u001b[0m\u001b[0m\n\u001b[0;32m-> 3345\u001b[0;31m                 \u001b[0mself\u001b[0m\u001b[0;34m.\u001b[0m\u001b[0m_set_compound_prop\u001b[0m\u001b[0;34m(\u001b[0m\u001b[0mprop\u001b[0m\u001b[0;34m,\u001b[0m \u001b[0mvalue\u001b[0m\u001b[0;34m)\u001b[0m\u001b[0;34m\u001b[0m\u001b[0;34m\u001b[0m\u001b[0m\n\u001b[0m\u001b[1;32m   3346\u001b[0m \u001b[0;34m\u001b[0m\u001b[0m\n\u001b[1;32m   3347\u001b[0m             \u001b[0;31m# ### Handle compound array property ###\u001b[0m\u001b[0;34m\u001b[0m\u001b[0;34m\u001b[0m\u001b[0;34m\u001b[0m\u001b[0m\n",
      "\u001b[0;32m~/anaconda3/lib/python3.7/site-packages/plotly/basedatatypes.py\u001b[0m in \u001b[0;36m_set_compound_prop\u001b[0;34m(self, prop, val)\u001b[0m\n\u001b[1;32m   3694\u001b[0m         \u001b[0mvalidator\u001b[0m \u001b[0;34m=\u001b[0m \u001b[0mself\u001b[0m\u001b[0;34m.\u001b[0m\u001b[0m_validators\u001b[0m\u001b[0;34m.\u001b[0m\u001b[0mget\u001b[0m\u001b[0;34m(\u001b[0m\u001b[0mprop\u001b[0m\u001b[0;34m)\u001b[0m\u001b[0;34m\u001b[0m\u001b[0;34m\u001b[0m\u001b[0m\n\u001b[1;32m   3695\u001b[0m         \u001b[0;31m# type: BasePlotlyType\u001b[0m\u001b[0;34m\u001b[0m\u001b[0;34m\u001b[0m\u001b[0;34m\u001b[0m\u001b[0m\n\u001b[0;32m-> 3696\u001b[0;31m         \u001b[0mval\u001b[0m \u001b[0;34m=\u001b[0m \u001b[0mvalidator\u001b[0m\u001b[0;34m.\u001b[0m\u001b[0mvalidate_coerce\u001b[0m\u001b[0;34m(\u001b[0m\u001b[0mval\u001b[0m\u001b[0;34m,\u001b[0m \u001b[0mskip_invalid\u001b[0m\u001b[0;34m=\u001b[0m\u001b[0mself\u001b[0m\u001b[0;34m.\u001b[0m\u001b[0m_skip_invalid\u001b[0m\u001b[0;34m)\u001b[0m\u001b[0;34m\u001b[0m\u001b[0;34m\u001b[0m\u001b[0m\n\u001b[0m\u001b[1;32m   3697\u001b[0m \u001b[0;34m\u001b[0m\u001b[0m\n\u001b[1;32m   3698\u001b[0m         \u001b[0;31m# Save deep copies of current and new states\u001b[0m\u001b[0;34m\u001b[0m\u001b[0;34m\u001b[0m\u001b[0;34m\u001b[0m\u001b[0m\n",
      "\u001b[0;32m~/anaconda3/lib/python3.7/site-packages/_plotly_utils/basevalidators.py\u001b[0m in \u001b[0;36mvalidate_coerce\u001b[0;34m(self, v, skip_invalid)\u001b[0m\n\u001b[1;32m   2440\u001b[0m                 \u001b[0mv\u001b[0m \u001b[0;34m=\u001b[0m \u001b[0mself\u001b[0m\u001b[0;34m.\u001b[0m\u001b[0mdata_class\u001b[0m\u001b[0;34m(\u001b[0m\u001b[0;34m)\u001b[0m\u001b[0;34m\u001b[0m\u001b[0;34m\u001b[0m\u001b[0m\n\u001b[1;32m   2441\u001b[0m             \u001b[0;32melse\u001b[0m\u001b[0;34m:\u001b[0m\u001b[0;34m\u001b[0m\u001b[0;34m\u001b[0m\u001b[0m\n\u001b[0;32m-> 2442\u001b[0;31m                 \u001b[0mself\u001b[0m\u001b[0;34m.\u001b[0m\u001b[0mraise_invalid_val\u001b[0m\u001b[0;34m(\u001b[0m\u001b[0mv\u001b[0m\u001b[0;34m)\u001b[0m\u001b[0;34m\u001b[0m\u001b[0;34m\u001b[0m\u001b[0m\n\u001b[0m\u001b[1;32m   2443\u001b[0m \u001b[0;34m\u001b[0m\u001b[0m\n\u001b[1;32m   2444\u001b[0m         \u001b[0mv\u001b[0m\u001b[0;34m.\u001b[0m\u001b[0m_plotly_name\u001b[0m \u001b[0;34m=\u001b[0m \u001b[0mself\u001b[0m\u001b[0;34m.\u001b[0m\u001b[0mplotly_name\u001b[0m\u001b[0;34m\u001b[0m\u001b[0;34m\u001b[0m\u001b[0m\n",
      "\u001b[0;32m~/anaconda3/lib/python3.7/site-packages/_plotly_utils/basevalidators.py\u001b[0m in \u001b[0;36mraise_invalid_val\u001b[0;34m(self, v, inds)\u001b[0m\n\u001b[1;32m    281\u001b[0m                 \u001b[0mtyp\u001b[0m\u001b[0;34m=\u001b[0m\u001b[0mtype_str\u001b[0m\u001b[0;34m(\u001b[0m\u001b[0mv\u001b[0m\u001b[0;34m)\u001b[0m\u001b[0;34m,\u001b[0m\u001b[0;34m\u001b[0m\u001b[0;34m\u001b[0m\u001b[0m\n\u001b[1;32m    282\u001b[0m                 \u001b[0mv\u001b[0m\u001b[0;34m=\u001b[0m\u001b[0mrepr\u001b[0m\u001b[0;34m(\u001b[0m\u001b[0mv\u001b[0m\u001b[0;34m)\u001b[0m\u001b[0;34m,\u001b[0m\u001b[0;34m\u001b[0m\u001b[0;34m\u001b[0m\u001b[0m\n\u001b[0;32m--> 283\u001b[0;31m                 \u001b[0mvalid_clr_desc\u001b[0m\u001b[0;34m=\u001b[0m\u001b[0mself\u001b[0m\u001b[0;34m.\u001b[0m\u001b[0mdescription\u001b[0m\u001b[0;34m(\u001b[0m\u001b[0;34m)\u001b[0m\u001b[0;34m,\u001b[0m\u001b[0;34m\u001b[0m\u001b[0;34m\u001b[0m\u001b[0m\n\u001b[0m\u001b[1;32m    284\u001b[0m             )\n\u001b[1;32m    285\u001b[0m         )\n",
      "\u001b[0;31mValueError\u001b[0m: \n    Invalid value of type 'plotly.graph_objs.scatter.Line' received for the 'line' property of scatter.marker\n        Received value: scatter.Line({\n    'color': 'rgb(50,50,50)', 'width': 1\n})\n\n    The 'line' property is an instance of Line\n    that may be specified as:\n      - An instance of plotly.graph_objs.scatter.marker.Line\n      - A dict of string/value properties that will be passed\n        to the Line constructor\n\n        Supported dict properties:\n            \n            autocolorscale\n                Determines whether the colorscale is a default\n                palette (`autocolorscale: true`) or the palette\n                determined by `marker.line.colorscale`. Has an\n                effect only if in `marker.line.color`is set to\n                a numerical array. In case `colorscale` is\n                unspecified or `autocolorscale` is true, the\n                default  palette will be chosen according to\n                whether numbers in the `color` array are all\n                positive, all negative or mixed.\n            cauto\n                Determines whether or not the color domain is\n                computed with respect to the input data (here\n                in `marker.line.color`) or the bounds set in\n                `marker.line.cmin` and `marker.line.cmax`  Has\n                an effect only if in `marker.line.color`is set\n                to a numerical array. Defaults to `false` when\n                `marker.line.cmin` and `marker.line.cmax` are\n                set by the user.\n            cmax\n                Sets the upper bound of the color domain. Has\n                an effect only if in `marker.line.color`is set\n                to a numerical array. Value should have the\n                same units as in `marker.line.color` and if\n                set, `marker.line.cmin` must be set as well.\n            cmid\n                Sets the mid-point of the color domain by\n                scaling `marker.line.cmin` and/or\n                `marker.line.cmax` to be equidistant to this\n                point. Has an effect only if in\n                `marker.line.color`is set to a numerical array.\n                Value should have the same units as in\n                `marker.line.color`. Has no effect when\n                `marker.line.cauto` is `false`.\n            cmin\n                Sets the lower bound of the color domain. Has\n                an effect only if in `marker.line.color`is set\n                to a numerical array. Value should have the\n                same units as in `marker.line.color` and if\n                set, `marker.line.cmax` must be set as well.\n            color\n                Sets themarker.linecolor. It accepts either a\n                specific color or an array of numbers that are\n                mapped to the colorscale relative to the max\n                and min values of the array or relative to\n                `marker.line.cmin` and `marker.line.cmax` if\n                set.\n            coloraxis\n                Sets a reference to a shared color axis.\n                References to these shared color axes are\n                \"coloraxis\", \"coloraxis2\", \"coloraxis3\", etc.\n                Settings for these shared color axes are set in\n                the layout, under `layout.coloraxis`,\n                `layout.coloraxis2`, etc. Note that multiple\n                color scales can be linked to the same color\n                axis.\n            colorscale\n                Sets the colorscale. Has an effect only if in\n                `marker.line.color`is set to a numerical array.\n                The colorscale must be an array containing\n                arrays mapping a normalized value to an rgb,\n                rgba, hex, hsl, hsv, or named color string. At\n                minimum, a mapping for the lowest (0) and\n                highest (1) values are required. For example,\n                `[[0, 'rgb(0,0,255)'], [1, 'rgb(255,0,0)']]`.\n                To control the bounds of the colorscale in\n                color space, use`marker.line.cmin` and\n                `marker.line.cmax`. Alternatively, `colorscale`\n                may be a palette name string of the following\n                list: Greys,YlGnBu,Greens,YlOrRd,Bluered,RdBu,R\n                eds,Blues,Picnic,Rainbow,Portland,Jet,Hot,Black\n                body,Earth,Electric,Viridis,Cividis.\n            colorsrc\n                Sets the source reference on plot.ly for  color\n                .\n            reversescale\n                Reverses the color mapping if true. Has an\n                effect only if in `marker.line.color`is set to\n                a numerical array. If true, `marker.line.cmin`\n                will correspond to the last color in the array\n                and `marker.line.cmax` will correspond to the\n                first color.\n            width\n                Sets the width (in px) of the lines bounding\n                the marker points.\n            widthsrc\n                Sets the source reference on plot.ly for  width\n                .\n"
     ]
    }
   ],
   "source": [
    "init_notebook_mode(True)\n",
    "\n",
    "\n",
    "pos = nx.fruchterman_reingold_layout(g)\n",
    "\n",
    "N = len(nodelist.Character)\n",
    "\n",
    "Xv = [pos[k][0] for k in nodelist.Character]\n",
    "Yv = [pos[k][1] for k in nodelist.Character]\n",
    "Xed = []\n",
    "Yed = []\n",
    "\n",
    "for edge in hp_graph:\n",
    "    Xed += [pos[edge[0]][0], pos[edge[1]][0], None]\n",
    "    Yed += [pos[edge[0]][1], pos[edge[1]][1], None]\n",
    "\n",
    "labels = list(g.nodes)\n",
    "\n",
    "trace3 = Scatter(\n",
    "    x=Xed,\n",
    "    y=Yed,\n",
    "    mode='lines',\n",
    "    line=scatter.Line(color='rgb(210,210,210)', width=1),\n",
    "    hoverinfo='none')\n",
    "\n",
    "trace4 = Scatter(\n",
    "    x=Xv,\n",
    "    y=Yv,\n",
    "    mode='markers',\n",
    "    name='net',\n",
    "    marker=scatter.Marker(\n",
    "        symbol=str('dot'),\n",
    "        size=10,\n",
    "        color='#6959CD',\n",
    "        line=scatter.Line(color='rgb(50,50,50)', width=1)),\n",
    "    text=labels,\n",
    "    hoverinfo='text')\n",
    "\n",
    "axis = dict(\n",
    "    showline=False,  # hide axis line, grid, ticklabels and  title\n",
    "    zeroline=False,\n",
    "    showgrid=False,\n",
    "    showticklabels=False,\n",
    "    title='')\n",
    "\n",
    "width = 800\n",
    "height = 800\n",
    "layout = Layout(\n",
    "    title=\"Harry Potter friend-enemy graph\",\n",
    "    font=Font(size=12),\n",
    "    showlegend=False,\n",
    "    autosize=False,\n",
    "    width=width,\n",
    "    height=height,\n",
    "    xaxis=XAxis(axis),\n",
    "    yaxis=YAxis(axis),\n",
    "    margin=Margin(\n",
    "        l=40,\n",
    "        r=40,\n",
    "        b=85,\n",
    "        t=100,\n",
    "    ),\n",
    "    hovermode='closest',\n",
    "    annotations=Annotations([\n",
    "        Annotation(\n",
    "            showarrow=False,\n",
    "            text='Fruchterman Reingold layout',\n",
    "            xref='paper',\n",
    "            yref='paper',\n",
    "            x=0,\n",
    "            y=-0.1,\n",
    "            xanchor='left',\n",
    "            yanchor='bottom',\n",
    "            font=Font(size=14))\n",
    "    ]),\n",
    ")\n",
    "\n",
    "annot = \"Fruchterman Reingold layout\"\n",
    "\n",
    "data1 = Data([trace3, trace4])\n",
    "fig1 = Figure(data=data1, layout=layout)\n",
    "fig1['layout']['annotations'][0]['text'] = annot\n",
    "iplot(fig1)"
   ]
  },
  {
   "cell_type": "markdown",
   "metadata": {},
   "source": [
    "### Properties of this network"
   ]
  },
  {
   "cell_type": "code",
   "execution_count": 24,
   "metadata": {},
   "outputs": [
    {
     "name": "stdout",
     "output_type": "stream",
     "text": [
      "Name: \n",
      "Type: Graph\n",
      "Number of nodes: 15\n",
      "Number of edges: 20\n",
      "Average degree:   2.6667\n"
     ]
    }
   ],
   "source": [
    "print(nx.info(g))"
   ]
  },
  {
   "cell_type": "code",
   "execution_count": 25,
   "metadata": {},
   "outputs": [
    {
     "data": {
      "text/plain": [
       "6"
      ]
     },
     "execution_count": 25,
     "metadata": {},
     "output_type": "execute_result"
    }
   ],
   "source": [
    "nx.diameter(g)"
   ]
  },
  {
   "cell_type": "code",
   "execution_count": 26,
   "metadata": {},
   "outputs": [
    {
     "name": "stdout",
     "output_type": "stream",
     "text": [
      "Network density: 0.19047619047619047\n"
     ]
    }
   ],
   "source": [
    "density = nx.density(g)\n",
    "print(\"Network density:\", density)"
   ]
  },
  {
   "cell_type": "markdown",
   "metadata": {},
   "source": [
    "### Find and plot shortest path between Hagrid and Bellatrix"
   ]
  },
  {
   "cell_type": "code",
   "execution_count": 27,
   "metadata": {
    "scrolled": true
   },
   "outputs": [
    {
     "name": "stdout",
     "output_type": "stream",
     "text": [
      "Shortest path between Hagird and Bellatrix: ['hagrid', 'hermoine', 'ron', 'voldermort', 'bellatrix']\n",
      "Length of that path: 4\n"
     ]
    }
   ],
   "source": [
    "hagrid_to_bellatrix = nx.shortest_path(g, source=\"hagrid\", target=\"bellatrix\")\n",
    "\n",
    "print(\"Shortest path between Hagird and Bellatrix:\", hagrid_to_bellatrix)\n",
    "print(\"Length of that path:\", len(hagrid_to_bellatrix) - 1)"
   ]
  },
  {
   "cell_type": "code",
   "execution_count": 28,
   "metadata": {},
   "outputs": [
    {
     "data": {
      "image/png": "[encoded data removed]",
      "text/plain": [
       "<Figure size 432x288 with 1 Axes>"
      ]
     },
     "metadata": {},
     "output_type": "display_data"
    }
   ],
   "source": [
    "g = nx.Graph()\n",
    "g.add_edges_from(hp_graph)\n",
    "pos = nx.spring_layout(g)\n",
    "nx.draw(g,pos,node_color='y')\n",
    "# draw path in red\n",
    "labels = {}\n",
    "path = nx.shortest_path(g, source='hagrid',target='bellatrix')\n",
    "\n",
    "# labels[0] = 'hagrid'\n",
    "# labels[1] = 'hermoine'\n",
    "# labels[2] = 'harry'\n",
    "path_edges = zip(path,path[1:])\n",
    "nx.draw_networkx_nodes(g,pos,nodelist=path,node_color='r', node_label = False)\n",
    "nx.draw_networkx_edges(g,pos,edgelist=list(path_edges),edge_color='r',width=10, label = False)\n",
    "nx.draw_networkx_labels(g,pos)\n",
    "\n",
    "plt.axis('equal')\n",
    "plt.show()"
   ]
  },
  {
   "cell_type": "code",
   "execution_count": 29,
   "metadata": {},
   "outputs": [
    {
     "name": "stdout",
     "output_type": "stream",
     "text": [
      "Triadic closure: 0.20930232558139536\n"
     ]
    }
   ],
   "source": [
    "triadic_closure = nx.transitivity(g)\n",
    "print(\"Triadic closure:\", triadic_closure)"
   ]
  },
  {
   "cell_type": "code",
   "execution_count": 30,
   "metadata": {},
   "outputs": [],
   "source": [
    "degree_dict = dict(g.degree(g.nodes()))\n",
    "nx.set_node_attributes(g, degree_dict, 'degree')"
   ]
  },
  {
   "cell_type": "code",
   "execution_count": 31,
   "metadata": {},
   "outputs": [
    {
     "name": "stdout",
     "output_type": "stream",
     "text": [
      "Top 3 nodes by degree:\n",
      "('hermoine', 6)\n",
      "('voldermort', 4)\n",
      "('harry', 3)\n"
     ]
    }
   ],
   "source": [
    "sorted_degree = sorted(degree_dict.items(), key=itemgetter(1), reverse=True)\n",
    "print(\"Top 3 nodes by degree:\")\n",
    "for d in sorted_degree[:3]:\n",
    "    print(d)"
   ]
  },
  {
   "cell_type": "code",
   "execution_count": 32,
   "metadata": {},
   "outputs": [
    {
     "name": "stdout",
     "output_type": "stream",
     "text": [
      "Top 3 nodes by betweenness centrality:\n",
      "('hermoine', 0.6446886446886447)\n",
      "('ron', 0.4945054945054945)\n",
      "('voldermort', 0.47802197802197804)\n"
     ]
    }
   ],
   "source": [
    "betweenness_dict = nx.betweenness_centrality(g) # Run betweenness centrality\n",
    "eigenvector_dict = nx.eigenvector_centrality(g) # Run eigenvector centrality\n",
    "\n",
    "# Assign each to an attribute in your network\n",
    "nx.set_node_attributes(g, betweenness_dict, 'betweenness')\n",
    "nx.set_node_attributes(g, eigenvector_dict, 'eigenvector')\n",
    "sorted_betweenness = sorted(betweenness_dict.items(), key=itemgetter(1), reverse=True)\n",
    "print(\"Top 3 nodes by betweenness centrality:\")\n",
    "for b in sorted_betweenness[:3]:\n",
    "    print(b)"
   ]
  },
  {
   "cell_type": "code",
   "execution_count": 33,
   "metadata": {},
   "outputs": [
    {
     "name": "stdout",
     "output_type": "stream",
     "text": [
      "Top 3 nodes by eigen vector centrality:\n",
      "('hermoine', 0.5616822737229703)\n",
      "('umbridge', 0.3834796700350752)\n",
      "('harry', 0.38001543878214505)\n"
     ]
    }
   ],
   "source": [
    "sorted_eigen = sorted(eigenvector_dict.items(), key=itemgetter(1), reverse=True)\n",
    "\n",
    "print(\"Top 3 nodes by eigen vector centrality:\")\n",
    "for b in sorted_eigen[:3]:\n",
    "    print(b)"
   ]
  },
  {
   "cell_type": "markdown",
   "metadata": {},
   "source": [
    "Here we can see that by both the centrality measures, the central nodes are different. This is because they measure different forms of centrality. **Betweenness measure how well connected (in between) a node is** in a graph, while the **eigen vector method computes centrality based on the degrees of the connecting nodes**. Thus, in the former, the 3 main links between the 2 clusters - Hermoine, Ron and Voldermort - are the 'central' nodes. In the eigen method, the most connected nodes - Hermoine, Umbridge and Harry - are the 'central' nodes."
   ]
  },
  {
   "cell_type": "code",
   "execution_count": null,
   "metadata": {},
   "outputs": [],
   "source": []
  }
 ],
 "metadata": {
  "kernelspec": {
   "display_name": "Python 3",
   "language": "python",
   "name": "python3"
  },
  "language_info": {
   "codemirror_mode": {
    "name": "ipython",
    "version": 3
   },
   "file_extension": ".py",
   "mimetype": "text/x-python",
   "name": "python",
   "nbconvert_exporter": "python",
   "pygments_lexer": "ipython3",
   "version": "3.7.3"
  }
 },
 "nbformat": 4,
 "nbformat_minor": 2
}
